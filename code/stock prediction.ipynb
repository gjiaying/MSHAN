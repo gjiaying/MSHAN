{
 "cells": [
  {
   "cell_type": "code",
   "execution_count": 862,
   "metadata": {
    "executionInfo": {
     "elapsed": 5928,
     "status": "ok",
     "timestamp": 1617915631940,
     "user": {
      "displayName": "Jiaying Gong",
      "photoUrl": "",
      "userId": "05239074792950850512"
     },
     "user_tz": 240
    },
    "id": "LsAXpV1FuPb0"
   },
   "outputs": [
    {
     "name": "stdout",
     "output_type": "stream",
     "text": [
      "2021-07-10 20:30:44,807 loading file /home/gjiaying/.flair/models/sentiment-en-mix-distillbert_4.pt\n"
     ]
    }
   ],
   "source": [
    "import numpy as np\n",
    "import matplotlib.pylab as plt\n",
    "import pandas as pd\n",
    "import os\n",
    "import math\n",
    "import json\n",
    "import re\n",
    "\n",
    "from sklearn.naive_bayes import GaussianNB\n",
    "from sklearn.linear_model import LogisticRegression\n",
    "from sklearn.neural_network import MLPClassifier\n",
    "from sklearn.svm import SVC\n",
    "from sklearn.discriminant_analysis import LinearDiscriminantAnalysis\n",
    "from sklearn.neighbors import KNeighborsClassifier\n",
    "from sklearn.ensemble import RandomForestClassifier\n",
    "from sklearn.ensemble import RandomForestRegressor\n",
    "from sklearn.feature_extraction import DictVectorizer\n",
    "from sklearn.feature_selection import RFECV\n",
    "from sklearn.linear_model import LinearRegression\n",
    "from sklearn import tree\n",
    "from sklearn.svm import LinearSVC\n",
    "from sklearn.feature_selection import SelectFromModel\n",
    "np.set_printoptions(suppress=True)\n",
    "\n",
    "from sklearn.model_selection import train_test_split\n",
    "import pandas as pd\n",
    "from pandas import DataFrame\n",
    "import matplotlib.pyplot as plt\n",
    "import datetime\n",
    "import torch\n",
    "import torch.nn as nn\n",
    "import numpy as np\n",
    "from torch.utils.data import Dataset, DataLoader\n",
    "import tensorflow_addons as tfa\n",
    "from keras.models import Sequential, Input, Model\n",
    "from keras_self_attention import SeqSelfAttention\n",
    "from keras.layers.core import Dense, Dropout, Activation\n",
    "from keras.layers import concatenate\n",
    "from keras.layers import Bidirectional\n",
    "\n",
    "from keras.layers.recurrent import LSTM,GRU\n",
    "from keras.models import load_model\n",
    "import keras\n",
    "from tcn import TCN, tcn_full_summary\n",
    "from keras_multi_head import MultiHead\n",
    "from keras_multi_head import MultiHeadAttention\n",
    "from keras.callbacks import EarlyStopping, ModelCheckpoint\n",
    "from tensorflow.python.client import device_lib\n",
    "from keras import backend as K\n",
    "import tensorflow as tf\n",
    "np.set_printoptions(threshold=np.inf)\n",
    "\n",
    "import tensorflow_hub as hub\n",
    "import nltk\n",
    "from nltk.corpus import stopwords\n",
    "from nltk.tokenize.treebank import TreebankWordDetokenizer\n",
    "#from keras.preprocessing.sequence import pad_sequences\n",
    "\n",
    "from spektral.layers import GCNConv\n",
    "from spektral.models.gcn import GCN\n",
    "#from transformers import BertTokenizer, TFBertModel, BertConfig\n",
    "#nltk.download('stopwords')\n",
    "embed = hub.load(\"https://tfhub.dev/google/universal-sentence-encoder/4\")\n",
    "from flair.models import TextClassifier\n",
    "from flair.data import Sentence\n",
    "classifier = TextClassifier.load('en-sentiment')\n",
    "#embed = TFBertModel.from_pretrained(\"bert-base-uncased\")\n",
    "#stop_words = set(stopwords.words('english'))"
   ]
  },
  {
   "cell_type": "code",
   "execution_count": 863,
   "metadata": {},
   "outputs": [
    {
     "name": "stdout",
     "output_type": "stream",
     "text": [
      "Num GPUs Available:  0\n",
      "[name: \"/device:CPU:0\"\n",
      "device_type: \"CPU\"\n",
      "memory_limit: 268435456\n",
      "locality {\n",
      "}\n",
      "incarnation: 16301509056843056275\n",
      "]\n"
     ]
    }
   ],
   "source": [
    "print(\"Num GPUs Available: \", len(tf.config.list_physical_devices('GPU')))\n",
    "from tensorflow.python.client import device_lib\n",
    "print(device_lib.list_local_devices())"
   ]
  },
  {
   "cell_type": "code",
   "execution_count": 492,
   "metadata": {
    "colab": {
     "base_uri": "https://localhost:8080/"
    },
    "executionInfo": {
     "elapsed": 3052,
     "status": "ok",
     "timestamp": 1617915641973,
     "user": {
      "displayName": "Jiaying Gong",
      "photoUrl": "",
      "userId": "05239074792950850512"
     },
     "user_tz": 240
    },
    "id": "PUedkUx_HuH_",
    "outputId": "ba9475f7-a674-4175-e3a7-c693b2b1e6cb"
   },
   "outputs": [],
   "source": [
    "X = pd.read_csv(os.getcwd()+'/price/alltrainings.csv')\n",
    "X_test = pd.read_csv(os.getcwd()+'/price/alltestings.csv')\n",
    "X_val = pd.read_csv(os.getcwd()+'/price/allvalidations.csv')\n",
    "#X = X.drop(X.columns[0], axis=1)\n",
    "#X_test = X_test.drop(X_test.columns[0], axis=1)\n",
    "#X_val = X_val.drop(X_val.columns[0], axis=1)\n",
    "y = X['label']\n",
    "y_test = X_test['label']\n",
    "y_val = X_val['label']\n",
    "#baseline1\n",
    "#X = X[['date','adj close','high','low','label']]\n",
    "#X_val = X_val[['date','adj close','high','low','label']]\n",
    "#X_test = X_test[['date','adj close','high','low','label']]\n",
    "\n",
    "#baseline3 L1 regularization\n",
    "#X = X[['date','adj close','high','low','open','close','volume','volume_nvi','trend_adx_pos','trend_mass_index','trend_cci','trend_aroon_up','trend_aroon_down','trend_aroon_ind','momentum_rsi','momentum_stoch','momentum_wr','RSI','Stoch','stoch_signal','TSI','WilliamsR','adx_neg','aroon_down','aroon','aroon_up','MI','CR','label']]\n",
    "#X_test = X_test[['date','adj close','high','low','open','close','volume','volume_nvi','trend_adx_pos','trend_mass_index','trend_cci','trend_aroon_up','trend_aroon_down','trend_aroon_ind','momentum_rsi','momentum_stoch','momentum_wr','RSI','Stoch','stoch_signal','TSI','WilliamsR','adx_neg','aroon_down','aroon','aroon_up','MI','CR','label']]\n",
    "\n",
    "#X = X[['date','adj close','high','low','open','close','volume','volume_nvi', 'volatility_atr', 'volatility_bbw', 'volatility_dchi', 'trend_macd', 'trend_macd_signal', 'trend_adx', 'trend_adx_pos', 'trend_adx_neg', 'trend_mass_index', 'trend_cci', 'trend_dpo', 'trend_kst_diff', 'trend_aroon_up', 'momentum_rsi', 'momentum_mfi', 'momentum_uo', 'momentum_stoch_signal', 'momentum_wr', 'momentum_ao', 'momentum_roc', 'others_dlr', 'others_cr', 'AO', 'MFI', 'ROC', 'RSI', 'stoch_signal', 'UO', 'WilliamsR', 'NVI', 'ATR', 'bb_bbw', 'dc_dchi', 'adx', 'adx_neg', 'aroon_up', 'CCI', 'DPO', 'KST', 'KST_diff', 'macd', 'macd_sig', 'MI', 'CR', 'DLR','label']]\n",
    "#X_val = X_val[['date','adj close','high','low','open','close','volume','volume_nvi', 'volatility_atr', 'volatility_bbw', 'volatility_dchi', 'trend_macd', 'trend_macd_signal', 'trend_adx', 'trend_adx_pos', 'trend_adx_neg', 'trend_mass_index', 'trend_cci', 'trend_dpo', 'trend_kst_diff', 'trend_aroon_up', 'momentum_rsi', 'momentum_mfi', 'momentum_uo', 'momentum_stoch_signal', 'momentum_wr', 'momentum_ao', 'momentum_roc', 'others_dlr', 'others_cr', 'AO', 'MFI', 'ROC', 'RSI', 'stoch_signal', 'UO', 'WilliamsR', 'NVI', 'ATR', 'bb_bbw', 'dc_dchi', 'adx', 'adx_neg', 'aroon_up', 'CCI', 'DPO', 'KST', 'KST_diff', 'macd', 'macd_sig', 'MI', 'CR', 'DLR','label']]\n",
    "#X_test = X_test[['date','adj close','high','low','open','close','volume','volume_nvi', 'volatility_atr', 'volatility_bbw', 'volatility_dchi', 'trend_macd', 'trend_macd_signal', 'trend_adx', 'trend_adx_pos', 'trend_adx_neg', 'trend_mass_index', 'trend_cci', 'trend_dpo', 'trend_kst_diff', 'trend_aroon_up', 'momentum_rsi', 'momentum_mfi', 'momentum_uo', 'momentum_stoch_signal', 'momentum_wr', 'momentum_ao', 'momentum_roc', 'others_dlr', 'others_cr', 'AO', 'MFI', 'ROC', 'RSI', 'stoch_signal', 'UO', 'WilliamsR', 'NVI', 'ATR', 'bb_bbw', 'dc_dchi', 'adx', 'adx_neg', 'aroon_up', 'CCI', 'DPO', 'KST', 'KST_diff', 'macd', 'macd_sig', 'MI', 'CR', 'DLR','label']]\n",
    "\n",
    "\n",
    "#baseline3 L1+MBR\n",
    "X = X[['date','adj close','high','low','open','close','volume','volume_nvi','trend_adx_pos','trend_mass_index','trend_cci','momentum_rsi','momentum_stoch','momentum_wr','RSI','Stoch','stoch_signal','TSI','WilliamsR','adx_neg','MI','CR','label']]\n",
    "X_test = X_test[['date','adj close','high','low','open','close','volume','volume_nvi','trend_adx_pos','trend_mass_index','trend_cci','momentum_rsi','momentum_stoch','momentum_wr','RSI','Stoch','stoch_signal','TSI','WilliamsR','adx_neg','MI','CR','label']]\n",
    "X_val = X_val[['date','adj close','high','low','open','close','volume','volume_nvi','trend_adx_pos','trend_mass_index','trend_cci','momentum_rsi','momentum_stoch','momentum_wr','RSI','Stoch','stoch_signal','TSI','WilliamsR','adx_neg','MI','CR','label']]\n",
    "\n",
    "#X = X[['date','adj close','high','low','open','close','volume','volume_nvi','trend_adx','trend_adx_pos','trend_adx_neg','trend_mass_index','trend_cci','trend_dpo','trend_kst_diff','momentum_mfi','momentum_uo','momentum_wr','momentum_roc','others_dlr','others_cr','MFI','stoch_signal','UO','WilliamsR','NVI','adx','adx_neg','DPO','KST','KST_diff','MI','CR','DLR','label']]\n",
    "#X_val = X_val[['date','adj close','high','low','open','close','volume','volume_nvi','trend_adx','trend_adx_pos','trend_adx_neg','trend_mass_index','trend_cci','trend_dpo','trend_kst_diff','momentum_mfi','momentum_uo','momentum_wr','momentum_roc','others_dlr','others_cr','MFI','stoch_signal','UO','WilliamsR','NVI','adx','adx_neg','DPO','KST','KST_diff','MI','CR','DLR','label']]\n",
    "#X_test = X_test[['date','adj close','high','low','open','close','volume','volume_nvi','trend_adx','trend_adx_pos','trend_adx_neg','trend_mass_index','trend_cci','trend_dpo','trend_kst_diff','momentum_mfi','momentum_uo','momentum_wr','momentum_roc','others_dlr','others_cr','MFI','stoch_signal','UO','WilliamsR','NVI','adx','adx_neg','DPO','KST','KST_diff','MI','CR','DLR','label']]\n",
    "\n",
    "#baseline3 L1+MBR+RFE\n",
    "#X = X[['date','adj close','high','low','open','close','volume','trend_adx_pos','trend_mass_index','momentum_rsi','momentum_stoch','momentum_wr','RSI','Stoch','TSI','WilliamsR','MI','label']]\n",
    "#X_test = X_test[['date','adj close','high','low','open','close','volume','trend_adx_pos','trend_mass_index','momentum_rsi','momentum_stoch','momentum_wr','RSI','Stoch','TSI','WilliamsR','MI','label']]\n",
    "#X_val = X_val[['date','adj close','high','low','open','close','volume','trend_adx_pos','trend_mass_index','momentum_rsi','momentum_stoch','momentum_wr','RSI','Stoch','TSI','WilliamsR','MI','label']]\n",
    "#X = X[['date','adj close','high','low','open','close','volume', 'volume_nvi', 'trend_adx', 'trend_adx_pos', 'trend_adx_neg', 'trend_mass_index', 'trend_cci', 'trend_dpo', 'trend_kst_diff', 'momentum_mfi', 'momentum_uo', 'momentum_wr', 'momentum_roc', 'others_dlr', 'others_cr', 'MFI', 'stoch_signal', 'UO', 'WilliamsR', 'NVI', 'adx', 'adx_neg', 'KST', 'KST_diff', 'MI', 'CR', 'DLR','label']]\n",
    "#X_val = X_val[['date','adj close','high','low','open','close','volume', 'volume_nvi', 'trend_adx', 'trend_adx_pos', 'trend_adx_neg', 'trend_mass_index', 'trend_cci', 'trend_dpo', 'trend_kst_diff', 'momentum_mfi', 'momentum_uo', 'momentum_wr', 'momentum_roc', 'others_dlr', 'others_cr', 'MFI', 'stoch_signal', 'UO', 'WilliamsR', 'NVI', 'adx', 'adx_neg', 'KST', 'KST_diff', 'MI', 'CR', 'DLR','label']]\n",
    "#X_test = X_test[['date','adj close','high','low','open','close','volume', 'volume_nvi', 'trend_adx', 'trend_adx_pos', 'trend_adx_neg', 'trend_mass_index', 'trend_cci', 'trend_dpo', 'trend_kst_diff', 'momentum_mfi', 'momentum_uo', 'momentum_wr', 'momentum_roc', 'others_dlr', 'others_cr', 'MFI', 'stoch_signal', 'UO', 'WilliamsR', 'NVI', 'adx', 'adx_neg', 'KST', 'KST_diff', 'MI', 'CR', 'DLR','label']]\n",
    "\n",
    "#baseline3 MBR\n",
    "#X = X[['date','adj close','high','low','open','close','volume','MI','trend_mass_index','CMF','volume_cmf','trend_dpo','DPO','trend_vortex_ind_neg','momentum_uo','momentum_mfi','adx_pos','label']]\n",
    "#X_test = X_test[['date','adj close','high','low','open','close','volume','MI','trend_mass_index','CMF','volume_cmf','trend_dpo','DPO','trend_vortex_ind_neg','momentum_uo','momentum_mfi','adx_pos','label']]\n",
    "#X = X[['date','adj close','high','low','open','close','volume','volume_adi','volume_obv','volume_cmf','volume_fi','volume_em','volume_vpt','volume_nvi','volatility_atr','trend_adx','trend_adx_pos','trend_adx_neg','trend_vortex_ind_pos','trend_vortex_ind_neg','trend_vortex_ind_diff','trend_mass_index','trend_cci','trend_dpo','trend_kst_diff','momentum_rsi','momentum_mfi','momentum_uo','momentum_stoch_signal','momentum_roc','others_cr','MFI','ROC','RSI','stoch_signal','UO','ADI','CMF','EoM','FI','NVI','OBV','VPT','adx','adx_neg','adx_pos','CCI','DPO','KST_diff','MI','vi_diff','vi_neg','vi_pos','CR','label']]\n",
    "#X_val = X_val[['date','adj close','high','low','open','close','volume','volume_adi','volume_obv','volume_cmf','volume_fi','volume_em','volume_vpt','volume_nvi','volatility_atr','trend_adx','trend_adx_pos','trend_adx_neg','trend_vortex_ind_pos','trend_vortex_ind_neg','trend_vortex_ind_diff','trend_mass_index','trend_cci','trend_dpo','trend_kst_diff','momentum_rsi','momentum_mfi','momentum_uo','momentum_stoch_signal','momentum_roc','others_cr','MFI','ROC','RSI','stoch_signal','UO','ADI','CMF','EoM','FI','NVI','OBV','VPT','adx','adx_neg','adx_pos','CCI','DPO','KST_diff','MI','vi_diff','vi_neg','vi_pos','CR','label']]\n",
    "#X_test = X_test[['date','adj close','high','low','open','close','volume','volume_adi','volume_obv','volume_cmf','volume_fi','volume_em','volume_vpt','volume_nvi','volatility_atr','trend_adx','trend_adx_pos','trend_adx_neg','trend_vortex_ind_pos','trend_vortex_ind_neg','trend_vortex_ind_diff','trend_mass_index','trend_cci','trend_dpo','trend_kst_diff','momentum_rsi','momentum_mfi','momentum_uo','momentum_stoch_signal','momentum_roc','others_cr','MFI','ROC','RSI','stoch_signal','UO','ADI','CMF','EoM','FI','NVI','OBV','VPT','adx','adx_neg','adx_pos','CCI','DPO','KST_diff','MI','vi_diff','vi_neg','vi_pos','CR','label']]\n",
    "\n",
    "#baseline2\n",
    "#X = X.drop(['Daily Percentage Change', 'Daily Change', 'prev adj close', 'y_t','label'], axis = 1)\n",
    "#X_val = X_val.drop(['Daily Percentage Change', 'Daily Change', 'prev adj close', 'y_t'], axis = 1)\n",
    "#X_test = X_test.drop(['Daily Percentage Change', 'Daily Change', 'prev adj close', 'y_t'], axis = 1)\n",
    "X = X.set_index('date')\n",
    "X_test = X_test.set_index('date')\n",
    "X_val = X_val.set_index('date')"
   ]
  },
  {
   "cell_type": "raw",
   "metadata": {
    "executionInfo": {
     "elapsed": 277,
     "status": "ok",
     "timestamp": 1617820759943,
     "user": {
      "displayName": "Jiaying Gong",
      "photoUrl": "",
      "userId": "05239074792950850512"
     },
     "user_tz": 240
    },
    "id": "SZkCo21yjK_P"
   },
   "source": [
    "def linear_selector(data, labels):\n",
    "    lsvc = LinearSVC(C=0.01, penalty=\"l1\", dual=False).fit(data, labels)\n",
    "    model = SelectFromModel(lsvc, prefit=True)\n",
    "    model.transform(data)\n",
    "    return data[data.columns[model.get_support(indices=True)]]"
   ]
  },
  {
   "cell_type": "raw",
   "metadata": {
    "colab": {
     "base_uri": "https://localhost:8080/"
    },
    "executionInfo": {
     "elapsed": 516082,
     "status": "ok",
     "timestamp": 1617916162161,
     "user": {
      "displayName": "Jiaying Gong",
      "photoUrl": "",
      "userId": "05239074792950850512"
     },
     "user_tz": 240
    },
    "id": "896_Tcqtm4pF",
    "outputId": "0e6e3da2-a017-4471-ca68-a6a3bcc0042c"
   },
   "source": [
    "names = X.columns.values.tolist()\n",
    "rf = RandomForestRegressor()\n",
    "rf.fit(X, y)"
   ]
  },
  {
   "cell_type": "raw",
   "metadata": {
    "executionInfo": {
     "elapsed": 280,
     "status": "ok",
     "timestamp": 1617916162453,
     "user": {
      "displayName": "Jiaying Gong",
      "photoUrl": "",
      "userId": "05239074792950850512"
     },
     "user_tz": 240
    },
    "id": "pM6xqVt-mvJS"
   },
   "source": [
    "def pretty_print_linear(coefs, names = names):\n",
    "  lst = zip(coefs, names)\n",
    "  lst = sorted(lst, key = lambda x:abs(x[0]), reverse = True)\n",
    "  return \" + \".join(\"%s * %s\" % (round(coef, 4), name) for coef, name in lst)"
   ]
  },
  {
   "cell_type": "raw",
   "metadata": {
    "executionInfo": {
     "elapsed": 3104,
     "status": "ok",
     "timestamp": 1617916165286,
     "user": {
      "displayName": "Jiaying Gong",
      "photoUrl": "",
      "userId": "05239074792950850512"
     },
     "user_tz": 240
    },
    "id": "0qUsgwiEmao_"
   },
   "source": [
    "list = sorted(zip(map(lambda x: round(x, 4), rf.feature_importances_), names),reverse=True)\n",
    "print(list)\n",
    "list1 = []\n",
    "for i in range(len(names)):\n",
    "  if rf.feature_importances_[i] >= 0.02 and names[i] != 'close' and names[i] != 'open' and names[i] != 'high' and names[i] != 'low' and names[i] != 'volume':\n",
    "            #print (names[i])\n",
    "    list1.append(names[i])"
   ]
  },
  {
   "cell_type": "raw",
   "metadata": {},
   "source": [
    "names = X.columns.values.tolist()\n",
    "estimator = LinearRegression()\n",
    "rfe = RFECV(estimator, min_features_to_select = 21, step=1, cv=5)\n",
    "rfe.fit(X,y)\n",
    "list1=[]\n",
    "list = sorted(zip(map(lambda x: round(x, 4), rfe.ranking_), names))\n",
    "\n",
    "for i in range(len(names)):\n",
    "    if rfe.ranking_[i] == 1 and names[i] != 'close' and names[i] != 'open' and names[i] != 'high' and names[i] != 'low' and names[i] != 'volume':\n",
    "        print (names[i])\n",
    "        list1.append(names[i])\n",
    "print(list1)"
   ]
  },
  {
   "cell_type": "code",
   "execution_count": 493,
   "metadata": {
    "colab": {
     "base_uri": "https://localhost:8080/"
    },
    "executionInfo": {
     "elapsed": 301,
     "status": "ok",
     "timestamp": 1617821155654,
     "user": {
      "displayName": "Jiaying Gong",
      "photoUrl": "",
      "userId": "05239074792950850512"
     },
     "user_tz": 240
    },
    "id": "ZNzA-09O8Nb4",
    "outputId": "a16a7230-0715-454c-e4fe-2c9fd444a58d"
   },
   "outputs": [
    {
     "name": "stdout",
     "output_type": "stream",
     "text": [
      "(15227, 1, 21)\n",
      "(15227,)\n"
     ]
    }
   ],
   "source": [
    "normalized_X = X\n",
    "mean = X.mean(axis = 0)\n",
    "normalized_X -= mean\n",
    "std = normalized_X.std(axis=0)\n",
    "normalized_X /= std\n",
    "\n",
    "normalized_X_test = X_test.astype(float)\n",
    "mean = X_test.mean(axis = 0)\n",
    "normalized_X_test -= mean\n",
    "std = normalized_X_test.std(axis=0)\n",
    "normalized_X_test /= std\n",
    "\n",
    "normalized_X_val = X_val.astype(float)\n",
    "mean = X_val.mean(axis = 0)\n",
    "normalized_X_val -= mean\n",
    "std = normalized_X_val.std(axis=0)\n",
    "normalized_X_val /= std\n",
    "\n",
    "normalized_X = normalized_X.drop('label', axis = 1)\n",
    "norm_X = normalized_X.copy()\n",
    "\n",
    "normalized_X_test = normalized_X_test.drop('label', axis = 1)\n",
    "norm_X_test = normalized_X_test.copy()\n",
    "\n",
    "normalized_X_val = normalized_X_val.drop('label', axis = 1)\n",
    "norm_X_val = normalized_X_val.copy()\n",
    "\n",
    "\n",
    "normalized_X = normalized_X.values\n",
    "normalized_X_test = normalized_X_test.values\n",
    "normalized_X_val = normalized_X_val.values\n",
    "norm_X = norm_X.values\n",
    "norm_X_test = norm_X_test.values\n",
    "norm_X_val = norm_X_val.values\n",
    "norm_X = np.expand_dims(norm_X, axis = 1)\n",
    "print(norm_X.shape)\n",
    "print(y.shape)"
   ]
  },
  {
   "cell_type": "code",
   "execution_count": 494,
   "metadata": {
    "executionInfo": {
     "elapsed": 570,
     "status": "ok",
     "timestamp": 1617821158944,
     "user": {
      "displayName": "Jiaying Gong",
      "photoUrl": "",
      "userId": "05239074792950850512"
     },
     "user_tz": 240
    },
    "id": "NVRp_pODyeJN"
   },
   "outputs": [
    {
     "name": "stdout",
     "output_type": "stream",
     "text": [
      "(15222, 5, 21)\n",
      "(15222,)\n"
     ]
    }
   ],
   "source": [
    "windows = 5\n",
    "lstm_input=[]\n",
    "for i in range(len(norm_X)-windows):\n",
    "  lstm_input.append(norm_X[i:i+windows,:])\n",
    "lstm_input=np.array(lstm_input)\n",
    "y = y[windows:]\n",
    "lstm_input = np.squeeze(lstm_input,axis=2)\n",
    "print(lstm_input.shape)\n",
    "print(y.shape)"
   ]
  },
  {
   "cell_type": "raw",
   "metadata": {},
   "source": [
    "norm_X_test = np.expand_dims(norm_X_test, axis = 1)"
   ]
  },
  {
   "cell_type": "code",
   "execution_count": 495,
   "metadata": {},
   "outputs": [
    {
     "name": "stdout",
     "output_type": "stream",
     "text": [
      "(2513, 5, 1, 21)\n",
      "(2513, 5, 21)\n"
     ]
    }
   ],
   "source": [
    "norm_X_test = np.expand_dims(norm_X_test, axis = 1)\n",
    "norm_X_test_input=[]\n",
    "for i in range(len(norm_X_test)-windows):\n",
    "  norm_X_test_input.append(norm_X_test[i:i+windows,:])\n",
    "norm_X_test_input=np.array(norm_X_test_input)\n",
    "print(norm_X_test_input.shape)\n",
    "norm_X_test_input = np.squeeze(norm_X_test_input,axis=2)\n",
    "print(norm_X_test_input.shape)\n",
    "y_test = y_test[windows:]"
   ]
  },
  {
   "cell_type": "code",
   "execution_count": 496,
   "metadata": {},
   "outputs": [
    {
     "name": "stdout",
     "output_type": "stream",
     "text": [
      "(1659, 1, 21)\n",
      "(1654, 5, 1, 21)\n",
      "(1654, 5, 21)\n"
     ]
    }
   ],
   "source": [
    "norm_X_val = np.expand_dims(norm_X_val, axis = 1)\n",
    "print(norm_X_val.shape)\n",
    "norm_X_val_input=[]\n",
    "for i in range(len(norm_X_val)-windows):\n",
    "  norm_X_val_input.append(norm_X_val[i:i+windows,:])\n",
    "norm_X_val_input=np.array(norm_X_val_input)\n",
    "print(norm_X_val_input.shape)\n",
    "norm_X_val_input = np.squeeze(norm_X_val_input,axis=2)\n",
    "print(norm_X_val_input.shape)\n",
    "y_val = y_val[windows:]"
   ]
  },
  {
   "cell_type": "code",
   "execution_count": 497,
   "metadata": {},
   "outputs": [],
   "source": [
    "MAX_LENGTH = 50\n",
    "EMBEDDING_DIMENSION = 512\n",
    "WINDOWS = 5\n",
    "BATCH_SIZE = 32"
   ]
  },
  {
   "cell_type": "code",
   "execution_count": 498,
   "metadata": {},
   "outputs": [],
   "source": [
    "def preprocessing(company, date):\n",
    "    str = company + '/' + date\n",
    "    filepath = os.getcwd() + '/tweet/preprocessed/' + str\n",
    "    list = []\n",
    "    with open(filepath, 'r') as file:\n",
    "        for line in file:\n",
    "            data = json.loads(line)\n",
    "            list.append(data['text'])\n",
    "    return list"
   ]
  },
  {
   "cell_type": "code",
   "execution_count": 499,
   "metadata": {},
   "outputs": [],
   "source": [
    "def cleaner(tweet):\n",
    "    tweet = re.sub(\"@[A-Za-z0-9]+\",\"\",tweet) #Remove @ sign\n",
    "    tweet = re.sub(r\"(?:\\@|http?\\://|https?\\://|www)\\S+\", \"\", tweet) #Remove http links\n",
    "    tweet = \" \".join(tweet.split())\n",
    "    #tweet = tweet.replace(\"#\", \"\").replace(\"_\", \"\").replace(\"$\", \"\") #Remove hashtag sign but keep the text\n",
    "    tweet = tweet.replace(\"rt\", \"\").replace(\"AT _ USER\", \"\").replace(\"URL\", \"\")\n",
    "    words = tweet.split()\n",
    "    wordsnew = tweet.split()\n",
    "    for i in range(len(words)):       \n",
    "        if '$' == words[i]:\n",
    "         \n",
    "            wordsnew = wordsnew[:i+1] + wordsnew[i + 2:]\n",
    "    \n",
    "    tweet = TreebankWordDetokenizer().detokenize(wordsnew)\n",
    "    tweet = tweet.replace(\"-\",\"\").replace(\"$\",\"\")\n",
    "    return tweet"
   ]
  },
  {
   "cell_type": "code",
   "execution_count": 697,
   "metadata": {
    "jupyter": {
     "source_hidden": true
    }
   },
   "outputs": [],
   "source": [
    "def get_data(path):\n",
    "    filepath_com = os.getcwd() + '/price/test_sample/'\n",
    "    company = os.listdir(filepath_com)\n",
    "\n",
    "    total_list = []\n",
    "    for i in range(len(company[:-1])):   #len(company[:-1])\n",
    "        filepath_date = os.getcwd() + '/tweet/preprocessed/' + str(company[i][:-4])\n",
    "        X = pd.read_csv(os.getcwd()+'/price/' + path + str(company[i]))\n",
    "        date = os.listdir(filepath_date)\n",
    "        \n",
    "        for j in range(len(date)): #len(date)-1\n",
    "            if date[j] in X['date'].values.tolist() and date[j][:-4] is not '.ipynb_checkpo':\n",
    "                #print(date[j])\n",
    "                list_oneday = []\n",
    "                list_oneday_score = []\n",
    "                list = preprocessing(company[i][:-4], date[j])\n",
    "                for k in range(len(list)):\n",
    "                    sentence = Sentence(TreebankWordDetokenizer().detokenize(list[k]))\n",
    "                    #print(sentence)\n",
    "                    #print(cleaner(str(sentence)))\n",
    "                    classifier.predict(sentence)\n",
    "                    \n",
    "                    list_oneday_score.append(sentence.labels[0].score)\n",
    "                    oneday = (embed(list[k]))\n",
    "                    \n",
    "                    if oneday.shape[0] >= MAX_LENGTH:\n",
    "                        list_oneday.append(oneday[0:MAX_LENGTH])\n",
    "                    else:\n",
    "                        one_as_vector = tf.reshape(oneday,[-1])\n",
    "                        zero_paddings = tf.zeros([MAX_LENGTH*EMBEDDING_DIMENSION]-tf.shape(one_as_vector),dtype=oneday.dtype)\n",
    "                        oneday_padded = tf.concat([one_as_vector, zero_paddings], 0)\n",
    "                        results = tf.reshape(oneday_padded, [MAX_LENGTH, EMBEDDING_DIMENSION])\n",
    "   \n",
    "           \n",
    "            \n",
    "                        list_oneday.append(results)\n",
    "                \n",
    "                list_oneday_score = np.array(list_oneday_score)\n",
    "                list_oneday_score = list_oneday_score/sum(list_oneday_score)\n",
    "                res = list_oneday * list_oneday_score[:, np.newaxis, np.newaxis]\n",
    "                #list_oneday = list_oneday*list_oneday_score\n",
    "                list_oneday = tf.convert_to_tensor(res)\n",
    "                #print(list_oneday)\n",
    "                \n",
    "               \n",
    "                list_oneday = np.mean(list_oneday,axis=0)\n",
    "                list_oneday = tf.convert_to_tensor(list_oneday)\n",
    "                \n",
    "                total_list.append(list_oneday)\n",
    "        #print(len(total_list))\n",
    "    total_list = tf.convert_to_tensor(total_list)\n",
    "    #gru = tf.keras.layers.GRU(64)\n",
    "    #total_list = (gru(total_list))\n",
    "    print(total_list.shape)\n",
    "    #np.save('embeddings.npy', embed(list[0]))\n",
    "    #all_embeddings = np.load('embeddings.npy')\n",
    "    #print(torch.FloatTensor(np.asarray(all_embeddings)))\n",
    "    return total_list"
   ]
  },
  {
   "cell_type": "code",
   "execution_count": 698,
   "metadata": {},
   "outputs": [
    {
     "name": "stdout",
     "output_type": "stream",
     "text": [
      "(15227, 50, 512)\n",
      "(1659, 50, 512)\n",
      "(2518, 50, 512)\n"
     ]
    }
   ],
   "source": [
    "training_datat = get_data('train_sample/')\n",
    "validation_datat = get_data('val_sample/')\n",
    "testing_datat = get_data('test_sample/')"
   ]
  },
  {
   "cell_type": "code",
   "execution_count": 699,
   "metadata": {},
   "outputs": [
    {
     "name": "stdout",
     "output_type": "stream",
     "text": [
      "(15222, 5, 50, 512)\n",
      "(1654, 5, 50, 512)\n",
      "(2513, 5, 50, 512)\n"
     ]
    }
   ],
   "source": [
    "xtrain_inputt=[]\n",
    "for i in range(len(training_datat)-WINDOWS):\n",
    "  xtrain_inputt.append(training_datat[i:i+WINDOWS,:])\n",
    "xtrain_inputt=np.array(xtrain_inputt)\n",
    "print(xtrain_inputt.shape)\n",
    "xtrain_inputt = xtrain_inputt.reshape(15222, WINDOWS, -1)\n",
    "\n",
    "xval_inputt=[]\n",
    "for i in range(len(validation_datat)-WINDOWS):\n",
    "  xval_inputt.append(validation_datat[i:i+WINDOWS,:])\n",
    "xval_inputt=np.array(xval_inputt)\n",
    "print(xval_inputt.shape)\n",
    "xval_inputt = xval_inputt.reshape(1654, WINDOWS, -1)\n",
    "\n",
    "xtest_inputt=[]\n",
    "for i in range(len(testing_datat)-WINDOWS):\n",
    "  xtest_inputt.append(testing_datat[i:i+WINDOWS,:])\n",
    "xtest_inputt=np.array(xtest_inputt)\n",
    "print(xtest_inputt.shape)\n",
    "xtest_inputt = xtest_inputt.reshape(2513, WINDOWS, -1)"
   ]
  },
  {
   "cell_type": "code",
   "execution_count": 701,
   "metadata": {},
   "outputs": [],
   "source": [
    "from keras import backend as K\n",
    "\n",
    "def recall_m(y_true, y_pred):\n",
    "    true_positives = K.sum(K.round(K.clip(y_true * y_pred, 0, 1)))\n",
    "    possible_positives = K.sum(K.round(K.clip(y_true, 0, 1)))\n",
    "    recall = true_positives / (possible_positives + K.epsilon())\n",
    "    return recall\n",
    "    #return recall\n",
    "\n",
    "def precision_m(y_true, y_pred):\n",
    "    true_positives = K.sum(K.round(K.clip(y_true * y_pred, 0, 1)))\n",
    "    predicted_positives = K.sum(K.round(K.clip(y_pred, 0, 1)))\n",
    "    precision = true_positives / (predicted_positives + K.epsilon())\n",
    "    return precision\n",
    "\n",
    "def f1_m(y_true, y_pred):\n",
    "    precision = precision_m(y_true, y_pred)\n",
    "    recall = recall_m(y_true, y_pred)\n",
    "    return 2*((precision*recall)/(precision+recall+K.epsilon()))\n",
    "\n",
    "def mcc_m(y_true, y_pred):\n",
    "    tp = K.sum(K.round(K.clip(y_true * y_pred, 0, 1)))\n",
    "    tn = K.sum(K.round(K.clip((1 - y_true) * (1 - y_pred), 0, 1)))\n",
    "    fp = K.sum(K.round(K.clip((1 - y_true) * y_pred, 0, 1)))\n",
    "    fn = K.sum(K.round(K.clip(y_true * (1 - y_pred), 0, 1)))\n",
    "\n",
    "    num = tp * tn - fp * fn\n",
    "    den = (tp + fp) * (tp + fn) * (tn + fp) * (tn + fn)\n",
    "    return num / K.sqrt(den + K.epsilon())"
   ]
  },
  {
   "cell_type": "code",
   "execution_count": 798,
   "metadata": {},
   "outputs": [],
   "source": [
    "def custom_loss(y_true, y_pred):\n",
    " \n",
    "   # bce_loss = tf.keras.losses.binary_crossentropy(y_true, y_pred, from_logits=False)\n",
    "    bce = tf.keras.losses.BinaryCrossentropy(from_logits=False, label_smoothing=0.1)\n",
    "    bce_loss = bce(y_true, y_pred)\n",
    "    mse_loss = tf.keras.losses.mean_squared_error(y_true, y_pred)\n",
    "    loss = 0.85*bce_loss + 0.15*mse_loss\n",
    "    \n",
    "    return bce_loss"
   ]
  },
  {
   "cell_type": "code",
   "execution_count": 843,
   "metadata": {},
   "outputs": [],
   "source": [
    "def create_model(input_shape, input_shapet):\n",
    "    inputs = Input(shape=input_shape)\n",
    "    inputst = Input(shape=input_shapet)\n",
    "    x = TCN(nb_filters=16, return_sequences=True)(inputs)\n",
    "    x = LSTM(64, input_shape=(WINDOWS,21), return_sequences=True)(x)\n",
    "    x = Dropout(0.3)(x)\n",
    "    \n",
    "    for i in range(3):\n",
    "        x1 = TCN(nb_filters=16, return_sequences=True)(inputs)\n",
    "        x1 = LSTM(64, input_shape=(WINDOWS,21), return_sequences=True)(x1)\n",
    "        x1 = Dropout(0.3)(x1)\n",
    "        x1 = LSTM(32, return_sequences=True)(x1)\n",
    "        x1 = Dropout(0.3)(x1)\n",
    "        x1 = LSTM(16, return_sequences=True)(x1)\n",
    "        x1 = Dropout(0.3)(x1)\n",
    "        x = concatenate([x,x1],axis=-1)\n",
    "    \n",
    "    x = SeqSelfAttention(attention_activation='tanh')(x)\n",
    "    x = LSTM(16, return_sequences=False)(x)\n",
    "    x = Dropout(0.3)(x)\n",
    "    x = Dense(16,kernel_initializer=\"uniform\",activation='relu')(x)\n",
    "    \n",
    "    xt = TCN(nb_filters=16, return_sequences=True)(inputst)\n",
    "    xt = Bidirectional(GRU(16, return_sequences=True))(xt)\n",
    "    xt = Dropout(0.3)(xt)\n",
    "    xt = Dense(16,kernel_initializer=\"uniform\",activation='relu')(xt)\n",
    "    \n",
    "    \n",
    "    for i in range(2):\n",
    "        x2 = TCN(nb_filters=16, return_sequences=True)(inputst)\n",
    "        x2 = Bidirectional(GRU(16, return_sequences=True))(x2)\n",
    "        x2 = Dropout(0.3)(x2)\n",
    "        \n",
    "      #  x2 = Dense(16,kernel_initializer=\"uniform\",activation='relu')(inputst)\n",
    "        xt = concatenate([xt,x2],axis=-1)\n",
    "        #x2 = Dense(16,kernel_initializer=\"uniform\",activation='relu')(xt)\n",
    "    \n",
    "    xt = Bidirectional(GRU(16, return_sequences=False))(xt)\n",
    "    xt = Dropout(0.3)(xt)\n",
    "    xt = Dense(8,kernel_initializer=\"uniform\",activation='relu')(xt)\n",
    "    x_all = concatenate([x, xt],axis=-1)\n",
    "  #  x_all = Dense(16,kernel_initializer=\"uniform\",activation='relu')(x_all)\n",
    "    x_final = Dense(1,kernel_initializer=\"uniform\",activation='relu')(x_all)\n",
    "    \n",
    "    model = Model(inputs=[inputs,inputst], outputs = x_final)\n",
    "\n",
    "    return model"
   ]
  },
  {
   "cell_type": "code",
   "execution_count": 856,
   "metadata": {},
   "outputs": [],
   "source": [
    "model = create_model(input_shape=lstm_input.shape[1:], input_shapet=xtrain_inputt.shape[1:])\n",
    "model.compile(loss='binary_crossentropy',optimizer=tf.keras.optimizers.RMSprop(learning_rate=0.0005), metrics=['accuracy', f1_m, mcc_m])"
   ]
  },
  {
   "cell_type": "code",
   "execution_count": 857,
   "metadata": {
    "colab": {
     "base_uri": "https://localhost:8080/"
    },
    "executionInfo": {
     "elapsed": 265574,
     "status": "ok",
     "timestamp": 1617821446582,
     "user": {
      "displayName": "Jiaying Gong",
      "photoUrl": "",
      "userId": "05239074792950850512"
     },
     "user_tz": 240
    },
    "id": "BcHzbgLYT8Ax",
    "outputId": "52928ad2-d86c-469c-e4ec-dd5709655f80"
   },
   "outputs": [
    {
     "name": "stdout",
     "output_type": "stream",
     "text": [
      "Epoch 1/100\n",
      "476/476 [==============================] - 160s 257ms/step - loss: 1.3409 - accuracy: 0.4917 - f1_m: 0.2701 - mcc_m: 0.0031 - val_loss: 0.6916 - val_accuracy: 0.5308 - val_f1_m: 0.2909 - val_mcc_m: 0.0149\n",
      "Epoch 2/100\n",
      "476/476 [==============================] - 32s 68ms/step - loss: 0.6977 - accuracy: 0.5052 - f1_m: 0.5461 - mcc_m: 0.0050 - val_loss: 0.6897 - val_accuracy: 0.5296 - val_f1_m: 0.3185 - val_mcc_m: 0.0199\n",
      "Epoch 3/100\n",
      "476/476 [==============================] - 32s 68ms/step - loss: 0.6964 - accuracy: 0.5035 - f1_m: 0.5194 - mcc_m: 0.0037 - val_loss: 0.6915 - val_accuracy: 0.5302 - val_f1_m: 0.3882 - val_mcc_m: 0.0385\n",
      "Epoch 4/100\n",
      "476/476 [==============================] - 32s 68ms/step - loss: 0.6884 - accuracy: 0.5436 - f1_m: 0.5565 - mcc_m: 0.0940 - val_loss: 0.7232 - val_accuracy: 0.4692 - val_f1_m: 0.5758 - val_mcc_m: -0.0052\n",
      "Epoch 5/100\n",
      "476/476 [==============================] - 32s 68ms/step - loss: 0.6634 - accuracy: 0.5984 - f1_m: 0.6062 - mcc_m: 0.2028 - val_loss: 0.7192 - val_accuracy: 0.4958 - val_f1_m: 0.5060 - val_mcc_m: 0.0077\n",
      "Epoch 6/100\n",
      "476/476 [==============================] - 32s 68ms/step - loss: 0.6216 - accuracy: 0.6589 - f1_m: 0.6629 - mcc_m: 0.3299 - val_loss: 0.7672 - val_accuracy: 0.4879 - val_f1_m: 0.5291 - val_mcc_m: 0.0022\n",
      "Epoch 7/100\n",
      "476/476 [==============================] - 32s 67ms/step - loss: 0.5765 - accuracy: 0.7050 - f1_m: 0.7166 - mcc_m: 0.4200 - val_loss: 0.8068 - val_accuracy: 0.4613 - val_f1_m: 0.5615 - val_mcc_m: -0.0298\n",
      "Epoch 8/100\n",
      "476/476 [==============================] - 32s 67ms/step - loss: 0.5412 - accuracy: 0.7374 - f1_m: 0.7473 - mcc_m: 0.4876 - val_loss: 1.0782 - val_accuracy: 0.4571 - val_f1_m: 0.5781 - val_mcc_m: -0.0322\n",
      "Epoch 9/100\n",
      "476/476 [==============================] - 32s 67ms/step - loss: 0.5161 - accuracy: 0.7762 - f1_m: 0.7794 - mcc_m: 0.5676 - val_loss: 2.0338 - val_accuracy: 0.5018 - val_f1_m: 0.3413 - val_mcc_m: -0.0331\n",
      "Epoch 10/100\n",
      "476/476 [==============================] - 32s 68ms/step - loss: 0.4832 - accuracy: 0.8089 - f1_m: 0.8148 - mcc_m: 0.6287 - val_loss: 1.5235 - val_accuracy: 0.4940 - val_f1_m: 0.4530 - val_mcc_m: -0.0048\n",
      "Epoch 11/100\n",
      "476/476 [==============================] - 32s 67ms/step - loss: 0.4451 - accuracy: 0.8266 - f1_m: 0.8321 - mcc_m: 0.6618 - val_loss: 2.2444 - val_accuracy: 0.4776 - val_f1_m: 0.5620 - val_mcc_m: -0.0018\n",
      "Epoch 12/100\n",
      "476/476 [==============================] - 32s 68ms/step - loss: 0.4340 - accuracy: 0.8481 - f1_m: 0.8508 - mcc_m: 0.7050 - val_loss: 3.0444 - val_accuracy: 0.5181 - val_f1_m: 0.2394 - val_mcc_m: -0.0203\n",
      "Epoch 13/100\n",
      "476/476 [==============================] - 32s 67ms/step - loss: 0.4098 - accuracy: 0.8694 - f1_m: 0.8702 - mcc_m: 0.7459 - val_loss: 2.9919 - val_accuracy: 0.4722 - val_f1_m: 0.5202 - val_mcc_m: -0.0243\n",
      "Epoch 14/100\n",
      "476/476 [==============================] - 32s 68ms/step - loss: 0.3780 - accuracy: 0.8870 - f1_m: 0.8868 - mcc_m: 0.7813 - val_loss: 3.2707 - val_accuracy: 0.5042 - val_f1_m: 0.4845 - val_mcc_m: 0.0168\n",
      "Epoch 15/100\n",
      "476/476 [==============================] - 32s 68ms/step - loss: 0.3289 - accuracy: 0.9041 - f1_m: 0.9045 - mcc_m: 0.8127 - val_loss: 3.1826 - val_accuracy: 0.5085 - val_f1_m: 0.3585 - val_mcc_m: -0.0105\n",
      "Epoch 16/100\n",
      "476/476 [==============================] - 32s 68ms/step - loss: 0.3060 - accuracy: 0.9071 - f1_m: 0.9087 - mcc_m: 0.8177 - val_loss: 4.0080 - val_accuracy: 0.5121 - val_f1_m: 0.3332 - val_mcc_m: -0.0084\n",
      "Epoch 17/100\n",
      "476/476 [==============================] - 33s 70ms/step - loss: 0.3349 - accuracy: 0.9124 - f1_m: 0.9105 - mcc_m: 0.8301 - val_loss: 3.5872 - val_accuracy: 0.5067 - val_f1_m: 0.4095 - val_mcc_m: -0.0116\n",
      "Epoch 18/100\n",
      "476/476 [==============================] - 33s 70ms/step - loss: 0.2948 - accuracy: 0.9211 - f1_m: 0.9216 - mcc_m: 0.8449 - val_loss: 3.7044 - val_accuracy: 0.5012 - val_f1_m: 0.3591 - val_mcc_m: -0.0256\n",
      "Epoch 19/100\n",
      "476/476 [==============================] - 33s 70ms/step - loss: 0.3046 - accuracy: 0.9216 - f1_m: 0.9216 - mcc_m: 0.8479 - val_loss: 3.6492 - val_accuracy: 0.4976 - val_f1_m: 0.4553 - val_mcc_m: -0.0093\n",
      "Epoch 20/100\n",
      "476/476 [==============================] - 33s 69ms/step - loss: 0.2917 - accuracy: 0.9312 - f1_m: 0.9323 - mcc_m: 0.8651 - val_loss: 4.7970 - val_accuracy: 0.5097 - val_f1_m: 0.4937 - val_mcc_m: 0.0187\n",
      "Epoch 21/100\n",
      "476/476 [==============================] - 33s 69ms/step - loss: 0.3163 - accuracy: 0.9337 - f1_m: 0.9345 - mcc_m: 0.8706 - val_loss: 4.3216 - val_accuracy: 0.5036 - val_f1_m: 0.5076 - val_mcc_m: 0.0232\n",
      "Epoch 22/100\n",
      "476/476 [==============================] - 32s 68ms/step - loss: 0.3024 - accuracy: 0.9363 - f1_m: 0.9361 - mcc_m: 0.8756 - val_loss: 5.4260 - val_accuracy: 0.5411 - val_f1_m: 0.2143 - val_mcc_m: 0.0240\n",
      "Epoch 23/100\n",
      "476/476 [==============================] - 33s 69ms/step - loss: 0.2382 - accuracy: 0.9454 - f1_m: 0.9456 - mcc_m: 0.8929 - val_loss: 5.3601 - val_accuracy: 0.4873 - val_f1_m: 0.4663 - val_mcc_m: -0.0202\n",
      "Epoch 24/100\n",
      "476/476 [==============================] - 32s 68ms/step - loss: 0.2495 - accuracy: 0.9471 - f1_m: 0.9473 - mcc_m: 0.8961 - val_loss: 5.3225 - val_accuracy: 0.4921 - val_f1_m: 0.4970 - val_mcc_m: -0.0016\n",
      "Epoch 25/100\n",
      "476/476 [==============================] - 33s 70ms/step - loss: 0.2407 - accuracy: 0.9490 - f1_m: 0.9468 - mcc_m: 0.9004 - val_loss: 4.8605 - val_accuracy: 0.5157 - val_f1_m: 0.3921 - val_mcc_m: 0.0178\n",
      "Epoch 26/100\n",
      "476/476 [==============================] - 33s 69ms/step - loss: 0.1939 - accuracy: 0.9581 - f1_m: 0.9585 - mcc_m: 0.9178 - val_loss: 5.5851 - val_accuracy: 0.4716 - val_f1_m: 0.5267 - val_mcc_m: -0.0236\n",
      "Epoch 27/100\n",
      "476/476 [==============================] - 32s 67ms/step - loss: 0.2051 - accuracy: 0.9573 - f1_m: 0.9581 - mcc_m: 0.9162 - val_loss: 5.8135 - val_accuracy: 0.4843 - val_f1_m: 0.4445 - val_mcc_m: -0.0357\n",
      "Epoch 28/100\n",
      "476/476 [==============================] - 32s 67ms/step - loss: 0.2518 - accuracy: 0.9579 - f1_m: 0.9589 - mcc_m: 0.9177 - val_loss: 6.6658 - val_accuracy: 0.4770 - val_f1_m: 0.5584 - val_mcc_m: -0.0072\n",
      "Epoch 29/100\n",
      "476/476 [==============================] - 32s 68ms/step - loss: 0.2334 - accuracy: 0.9565 - f1_m: 0.9569 - mcc_m: 0.9153 - val_loss: 5.6219 - val_accuracy: 0.5042 - val_f1_m: 0.4974 - val_mcc_m: 0.0151\n",
      "Epoch 30/100\n",
      "476/476 [==============================] - 32s 68ms/step - loss: 0.1854 - accuracy: 0.9652 - f1_m: 0.9649 - mcc_m: 0.9322 - val_loss: 5.9321 - val_accuracy: 0.5012 - val_f1_m: 0.4188 - val_mcc_m: -0.0189\n",
      "Epoch 31/100\n",
      "476/476 [==============================] - 33s 69ms/step - loss: 0.2689 - accuracy: 0.9582 - f1_m: 0.9589 - mcc_m: 0.9180 - val_loss: 5.7555 - val_accuracy: 0.4982 - val_f1_m: 0.4949 - val_mcc_m: 0.0029\n",
      "Epoch 32/100\n",
      "476/476 [==============================] - 34s 71ms/step - loss: 0.1975 - accuracy: 0.9632 - f1_m: 0.9639 - mcc_m: 0.9278 - val_loss: 6.2550 - val_accuracy: 0.4782 - val_f1_m: 0.4895 - val_mcc_m: -0.0315\n",
      "Epoch 33/100\n",
      "476/476 [==============================] - 33s 70ms/step - loss: 0.1927 - accuracy: 0.9678 - f1_m: 0.9674 - mcc_m: 0.9363 - val_loss: 5.5214 - val_accuracy: 0.5012 - val_f1_m: 0.4758 - val_mcc_m: -0.0036\n",
      "Epoch 34/100\n",
      "476/476 [==============================] - 33s 69ms/step - loss: 0.1714 - accuracy: 0.9691 - f1_m: 0.9695 - mcc_m: 0.9389 - val_loss: 6.2921 - val_accuracy: 0.4897 - val_f1_m: 0.5426 - val_mcc_m: 0.0067\n",
      "Epoch 35/100\n",
      "476/476 [==============================] - 32s 68ms/step - loss: 0.1530 - accuracy: 0.9677 - f1_m: 0.9679 - mcc_m: 0.9368 - val_loss: 5.9276 - val_accuracy: 0.4952 - val_f1_m: 0.4470 - val_mcc_m: -0.0167\n",
      "Epoch 36/100\n",
      "476/476 [==============================] - 32s 68ms/step - loss: 0.1838 - accuracy: 0.9712 - f1_m: 0.9718 - mcc_m: 0.9437 - val_loss: 5.9975 - val_accuracy: 0.4958 - val_f1_m: 0.4853 - val_mcc_m: -0.0029\n",
      "Epoch 37/100\n",
      "476/476 [==============================] - 32s 68ms/step - loss: 0.1468 - accuracy: 0.9753 - f1_m: 0.9758 - mcc_m: 0.9513 - val_loss: 6.1277 - val_accuracy: 0.5048 - val_f1_m: 0.4111 - val_mcc_m: -0.0107\n",
      "Epoch 38/100\n",
      "476/476 [==============================] - 32s 67ms/step - loss: 0.1632 - accuracy: 0.9745 - f1_m: 0.9746 - mcc_m: 0.9493 - val_loss: 6.3038 - val_accuracy: 0.4952 - val_f1_m: 0.4681 - val_mcc_m: -0.0149\n",
      "Epoch 39/100\n",
      "476/476 [==============================] - 32s 68ms/step - loss: 0.2201 - accuracy: 0.9712 - f1_m: 0.9708 - mcc_m: 0.9435 - val_loss: 5.8668 - val_accuracy: 0.5127 - val_f1_m: 0.4263 - val_mcc_m: 0.0087\n",
      "Epoch 40/100\n",
      "476/476 [==============================] - 32s 67ms/step - loss: 0.1670 - accuracy: 0.9769 - f1_m: 0.9771 - mcc_m: 0.9540 - val_loss: 6.4114 - val_accuracy: 0.4849 - val_f1_m: 0.4633 - val_mcc_m: -0.0261\n",
      "Epoch 41/100\n",
      "476/476 [==============================] - 32s 67ms/step - loss: 0.1827 - accuracy: 0.9750 - f1_m: 0.9755 - mcc_m: 0.9507 - val_loss: 5.8715 - val_accuracy: 0.4819 - val_f1_m: 0.4691 - val_mcc_m: -0.0324\n",
      "Epoch 42/100\n",
      "476/476 [==============================] - 32s 67ms/step - loss: 0.1366 - accuracy: 0.9794 - f1_m: 0.9794 - mcc_m: 0.9588 - val_loss: 6.1950 - val_accuracy: 0.4788 - val_f1_m: 0.4837 - val_mcc_m: -0.0328\n",
      "Epoch 43/100\n",
      "476/476 [==============================] - 32s 67ms/step - loss: 0.1244 - accuracy: 0.9825 - f1_m: 0.9821 - mcc_m: 0.9648 - val_loss: 6.7510 - val_accuracy: 0.4734 - val_f1_m: 0.4864 - val_mcc_m: -0.0359\n",
      "Epoch 44/100\n",
      "476/476 [==============================] - 32s 67ms/step - loss: 0.1657 - accuracy: 0.9763 - f1_m: 0.9763 - mcc_m: 0.9537 - val_loss: 6.0805 - val_accuracy: 0.5067 - val_f1_m: 0.4652 - val_mcc_m: 0.0109\n",
      "Epoch 45/100\n",
      "476/476 [==============================] - 32s 67ms/step - loss: 0.1465 - accuracy: 0.9787 - f1_m: 0.9799 - mcc_m: 0.9586 - val_loss: 5.7840 - val_accuracy: 0.5091 - val_f1_m: 0.4853 - val_mcc_m: 0.0218\n",
      "Epoch 46/100\n",
      "476/476 [==============================] - 32s 67ms/step - loss: 0.1324 - accuracy: 0.9800 - f1_m: 0.9809 - mcc_m: 0.9608 - val_loss: 5.9279 - val_accuracy: 0.4909 - val_f1_m: 0.4552 - val_mcc_m: -0.0146\n",
      "Epoch 47/100\n",
      "476/476 [==============================] - 32s 67ms/step - loss: 0.1353 - accuracy: 0.9809 - f1_m: 0.9813 - mcc_m: 0.9621 - val_loss: 6.2711 - val_accuracy: 0.4891 - val_f1_m: 0.4651 - val_mcc_m: -0.0161\n",
      "Epoch 48/100\n",
      "476/476 [==============================] - 32s 67ms/step - loss: 0.1530 - accuracy: 0.9793 - f1_m: 0.9795 - mcc_m: 0.9589 - val_loss: 5.9656 - val_accuracy: 0.4855 - val_f1_m: 0.4636 - val_mcc_m: -0.0267\n",
      "Epoch 49/100\n",
      "476/476 [==============================] - 32s 67ms/step - loss: 0.1305 - accuracy: 0.9817 - f1_m: 0.9819 - mcc_m: 0.9638 - val_loss: 6.3436 - val_accuracy: 0.4813 - val_f1_m: 0.4873 - val_mcc_m: -0.0237\n",
      "Epoch 50/100\n",
      "476/476 [==============================] - 32s 67ms/step - loss: 0.1298 - accuracy: 0.9828 - f1_m: 0.9827 - mcc_m: 0.9661 - val_loss: 6.1763 - val_accuracy: 0.4752 - val_f1_m: 0.4767 - val_mcc_m: -0.0367\n",
      "Epoch 51/100\n",
      "476/476 [==============================] - 32s 67ms/step - loss: 0.1223 - accuracy: 0.9835 - f1_m: 0.9836 - mcc_m: 0.9672 - val_loss: 6.2463 - val_accuracy: 0.4758 - val_f1_m: 0.4909 - val_mcc_m: -0.0318\n",
      "Epoch 52/100\n",
      "476/476 [==============================] - 32s 68ms/step - loss: 0.1689 - accuracy: 0.9789 - f1_m: 0.9781 - mcc_m: 0.9584 - val_loss: 6.9526 - val_accuracy: 0.4692 - val_f1_m: 0.4178 - val_mcc_m: -0.0624\n",
      "Epoch 53/100\n",
      "476/476 [==============================] - 32s 67ms/step - loss: 0.1654 - accuracy: 0.9794 - f1_m: 0.9798 - mcc_m: 0.9594 - val_loss: 6.9248 - val_accuracy: 0.4861 - val_f1_m: 0.4231 - val_mcc_m: -0.0349\n",
      "Epoch 54/100\n",
      "476/476 [==============================] - 32s 67ms/step - loss: 0.1329 - accuracy: 0.9815 - f1_m: 0.9820 - mcc_m: 0.9633 - val_loss: 6.7805 - val_accuracy: 0.4867 - val_f1_m: 0.4542 - val_mcc_m: -0.0255\n",
      "Epoch 55/100\n",
      "476/476 [==============================] - 32s 67ms/step - loss: 0.1406 - accuracy: 0.9844 - f1_m: 0.9844 - mcc_m: 0.9691 - val_loss: 6.6474 - val_accuracy: 0.4915 - val_f1_m: 0.4310 - val_mcc_m: -0.0203\n",
      "Epoch 56/100\n",
      "476/476 [==============================] - 32s 67ms/step - loss: 0.1123 - accuracy: 0.9839 - f1_m: 0.9837 - mcc_m: 0.9683 - val_loss: 6.6625 - val_accuracy: 0.4946 - val_f1_m: 0.4462 - val_mcc_m: -0.0153\n",
      "Epoch 57/100\n",
      "476/476 [==============================] - 33s 69ms/step - loss: 0.1450 - accuracy: 0.9820 - f1_m: 0.9823 - mcc_m: 0.9642 - val_loss: 6.8117 - val_accuracy: 0.4909 - val_f1_m: 0.4204 - val_mcc_m: -0.0297\n",
      "Epoch 58/100\n",
      "476/476 [==============================] - 33s 70ms/step - loss: 0.1352 - accuracy: 0.9827 - f1_m: 0.9828 - mcc_m: 0.9655 - val_loss: 6.9867 - val_accuracy: 0.4879 - val_f1_m: 0.5113 - val_mcc_m: -0.0029\n",
      "Epoch 59/100\n",
      "476/476 [==============================] - 33s 69ms/step - loss: 0.1487 - accuracy: 0.9815 - f1_m: 0.9820 - mcc_m: 0.9640 - val_loss: 6.7558 - val_accuracy: 0.4891 - val_f1_m: 0.5107 - val_mcc_m: 0.0050\n",
      "Epoch 60/100\n",
      "476/476 [==============================] - 33s 69ms/step - loss: 0.1921 - accuracy: 0.9796 - f1_m: 0.9796 - mcc_m: 0.9600 - val_loss: 6.7815 - val_accuracy: 0.4946 - val_f1_m: 0.4897 - val_mcc_m: 0.0017\n",
      "Epoch 61/100\n",
      "476/476 [==============================] - 33s 70ms/step - loss: 0.1627 - accuracy: 0.9800 - f1_m: 0.9800 - mcc_m: 0.9608 - val_loss: 6.7898 - val_accuracy: 0.4831 - val_f1_m: 0.5345 - val_mcc_m: 0.0102\n",
      "Epoch 62/100\n",
      "476/476 [==============================] - 33s 70ms/step - loss: 0.1162 - accuracy: 0.9853 - f1_m: 0.9854 - mcc_m: 0.9708 - val_loss: 6.7066 - val_accuracy: 0.4933 - val_f1_m: 0.5253 - val_mcc_m: 0.0080\n",
      "Epoch 63/100\n",
      "476/476 [==============================] - 33s 69ms/step - loss: 0.1593 - accuracy: 0.9827 - f1_m: 0.9831 - mcc_m: 0.9659 - val_loss: 6.1712 - val_accuracy: 0.5012 - val_f1_m: 0.4480 - val_mcc_m: -0.0029\n",
      "Epoch 64/100\n",
      "476/476 [==============================] - 34s 71ms/step - loss: 0.0974 - accuracy: 0.9872 - f1_m: 0.9875 - mcc_m: 0.9750 - val_loss: 6.6427 - val_accuracy: 0.4964 - val_f1_m: 0.5097 - val_mcc_m: 0.0093\n",
      "Epoch 65/100\n",
      "476/476 [==============================] - 35s 72ms/step - loss: 0.0956 - accuracy: 0.9845 - f1_m: 0.9848 - mcc_m: 0.9690 - val_loss: 6.6605 - val_accuracy: 0.5018 - val_f1_m: 0.4970 - val_mcc_m: 0.0142\n",
      "Epoch 66/100\n",
      "476/476 [==============================] - 33s 70ms/step - loss: 0.1192 - accuracy: 0.9834 - f1_m: 0.9838 - mcc_m: 0.9671 - val_loss: 6.7452 - val_accuracy: 0.4970 - val_f1_m: 0.4764 - val_mcc_m: 0.0015\n",
      "Epoch 67/100\n",
      "476/476 [==============================] - 33s 70ms/step - loss: 0.1418 - accuracy: 0.9838 - f1_m: 0.9842 - mcc_m: 0.9681 - val_loss: 6.4709 - val_accuracy: 0.5175 - val_f1_m: 0.4182 - val_mcc_m: 0.0174\n",
      "Epoch 68/100\n",
      "476/476 [==============================] - 33s 70ms/step - loss: 0.1008 - accuracy: 0.9889 - f1_m: 0.9889 - mcc_m: 0.9779 - val_loss: 6.8160 - val_accuracy: 0.4837 - val_f1_m: 0.4610 - val_mcc_m: -0.0290\n",
      "Epoch 69/100\n",
      "476/476 [==============================] - 33s 69ms/step - loss: 0.1235 - accuracy: 0.9874 - f1_m: 0.9876 - mcc_m: 0.9749 - val_loss: 6.5300 - val_accuracy: 0.5109 - val_f1_m: 0.3603 - val_mcc_m: -0.0113\n",
      "Epoch 70/100\n",
      "476/476 [==============================] - 34s 71ms/step - loss: 0.1231 - accuracy: 0.9874 - f1_m: 0.9878 - mcc_m: 0.9752 - val_loss: 6.5444 - val_accuracy: 0.4988 - val_f1_m: 0.5074 - val_mcc_m: 0.0107\n",
      "Epoch 71/100\n",
      "476/476 [==============================] - 34s 70ms/step - loss: 0.0980 - accuracy: 0.9890 - f1_m: 0.9884 - mcc_m: 0.9780 - val_loss: 6.9543 - val_accuracy: 0.4958 - val_f1_m: 0.5338 - val_mcc_m: 0.0164\n",
      "Epoch 72/100\n",
      "476/476 [==============================] - 33s 69ms/step - loss: 0.1383 - accuracy: 0.9862 - f1_m: 0.9862 - mcc_m: 0.9720 - val_loss: 6.6937 - val_accuracy: 0.4946 - val_f1_m: 0.4370 - val_mcc_m: -0.0206\n",
      "Epoch 73/100\n",
      "476/476 [==============================] - 32s 68ms/step - loss: 0.1261 - accuracy: 0.9869 - f1_m: 0.9871 - mcc_m: 0.9739 - val_loss: 6.7317 - val_accuracy: 0.5073 - val_f1_m: 0.3950 - val_mcc_m: -0.0129\n",
      "Epoch 74/100\n",
      "476/476 [==============================] - 34s 71ms/step - loss: 0.1187 - accuracy: 0.9868 - f1_m: 0.9868 - mcc_m: 0.9740 - val_loss: 6.6176 - val_accuracy: 0.4940 - val_f1_m: 0.4509 - val_mcc_m: -0.0158\n",
      "Epoch 75/100\n",
      "476/476 [==============================] - 33s 69ms/step - loss: 0.1151 - accuracy: 0.9868 - f1_m: 0.9867 - mcc_m: 0.9737 - val_loss: 7.3262 - val_accuracy: 0.4770 - val_f1_m: 0.4978 - val_mcc_m: -0.0272\n",
      "Epoch 76/100\n",
      "476/476 [==============================] - 32s 67ms/step - loss: 0.1563 - accuracy: 0.9835 - f1_m: 0.9838 - mcc_m: 0.9676 - val_loss: 6.6421 - val_accuracy: 0.5042 - val_f1_m: 0.4551 - val_mcc_m: 0.0017\n",
      "Epoch 77/100\n",
      "476/476 [==============================] - 32s 67ms/step - loss: 0.1278 - accuracy: 0.9853 - f1_m: 0.9855 - mcc_m: 0.9706 - val_loss: 6.7832 - val_accuracy: 0.4746 - val_f1_m: 0.4426 - val_mcc_m: -0.0455\n",
      "Epoch 78/100\n",
      "476/476 [==============================] - 32s 67ms/step - loss: 0.1071 - accuracy: 0.9879 - f1_m: 0.9880 - mcc_m: 0.9756 - val_loss: 6.8657 - val_accuracy: 0.4903 - val_f1_m: 0.4805 - val_mcc_m: -0.0125\n",
      "Epoch 79/100\n",
      "476/476 [==============================] - 32s 67ms/step - loss: 0.1241 - accuracy: 0.9869 - f1_m: 0.9873 - mcc_m: 0.9742 - val_loss: 6.8521 - val_accuracy: 0.4958 - val_f1_m: 0.4287 - val_mcc_m: -0.0210\n",
      "Epoch 80/100\n",
      "476/476 [==============================] - 32s 67ms/step - loss: 0.1065 - accuracy: 0.9867 - f1_m: 0.9870 - mcc_m: 0.9734 - val_loss: 6.7702 - val_accuracy: 0.4849 - val_f1_m: 0.4948 - val_mcc_m: -0.0139\n",
      "Epoch 81/100\n",
      "476/476 [==============================] - 32s 67ms/step - loss: 0.0969 - accuracy: 0.9884 - f1_m: 0.9887 - mcc_m: 0.9770 - val_loss: 7.0213 - val_accuracy: 0.4843 - val_f1_m: 0.4886 - val_mcc_m: -0.0232\n",
      "Epoch 82/100\n",
      "476/476 [==============================] - 32s 67ms/step - loss: 0.0798 - accuracy: 0.9897 - f1_m: 0.9896 - mcc_m: 0.9793 - val_loss: 7.0515 - val_accuracy: 0.4958 - val_f1_m: 0.4880 - val_mcc_m: -0.0024\n",
      "Epoch 83/100\n",
      "476/476 [==============================] - 32s 68ms/step - loss: 0.1632 - accuracy: 0.9845 - f1_m: 0.9849 - mcc_m: 0.9696 - val_loss: 6.6245 - val_accuracy: 0.5030 - val_f1_m: 0.4920 - val_mcc_m: 0.0093\n",
      "Epoch 84/100\n",
      "476/476 [==============================] - 32s 67ms/step - loss: 0.1163 - accuracy: 0.9864 - f1_m: 0.9864 - mcc_m: 0.9732 - val_loss: 7.2259 - val_accuracy: 0.4837 - val_f1_m: 0.4958 - val_mcc_m: -0.0216\n",
      "Epoch 85/100\n",
      "476/476 [==============================] - 32s 67ms/step - loss: 0.1052 - accuracy: 0.9870 - f1_m: 0.9874 - mcc_m: 0.9743 - val_loss: 6.5547 - val_accuracy: 0.5073 - val_f1_m: 0.4351 - val_mcc_m: 0.0046\n",
      "Epoch 86/100\n",
      "476/476 [==============================] - 33s 69ms/step - loss: 0.0837 - accuracy: 0.9912 - f1_m: 0.9914 - mcc_m: 0.9822 - val_loss: 6.9646 - val_accuracy: 0.4976 - val_f1_m: 0.4310 - val_mcc_m: -0.0161\n",
      "Epoch 87/100\n",
      "476/476 [==============================] - 32s 67ms/step - loss: 0.0868 - accuracy: 0.9906 - f1_m: 0.9907 - mcc_m: 0.9815 - val_loss: 6.6479 - val_accuracy: 0.5042 - val_f1_m: 0.4854 - val_mcc_m: 0.0149\n",
      "Epoch 88/100\n",
      "476/476 [==============================] - 32s 67ms/step - loss: 0.0881 - accuracy: 0.9896 - f1_m: 0.9897 - mcc_m: 0.9793 - val_loss: 6.8986 - val_accuracy: 0.4933 - val_f1_m: 0.4967 - val_mcc_m: -8.1448e-04\n",
      "Epoch 89/100\n",
      "476/476 [==============================] - 32s 68ms/step - loss: 0.1206 - accuracy: 0.9872 - f1_m: 0.9876 - mcc_m: 0.9746 - val_loss: 7.2294 - val_accuracy: 0.4813 - val_f1_m: 0.5311 - val_mcc_m: -0.0083\n",
      "Epoch 90/100\n",
      "476/476 [==============================] - 32s 68ms/step - loss: 0.0898 - accuracy: 0.9898 - f1_m: 0.9894 - mcc_m: 0.9796 - val_loss: 6.8617 - val_accuracy: 0.5073 - val_f1_m: 0.5043 - val_mcc_m: 0.0255\n",
      "Epoch 91/100\n",
      "476/476 [==============================] - 32s 68ms/step - loss: 0.1562 - accuracy: 0.9842 - f1_m: 0.9835 - mcc_m: 0.9689 - val_loss: 7.2123 - val_accuracy: 0.4843 - val_f1_m: 0.4885 - val_mcc_m: -0.0135\n",
      "Epoch 92/100\n",
      "476/476 [==============================] - 32s 68ms/step - loss: 0.0971 - accuracy: 0.9906 - f1_m: 0.9906 - mcc_m: 0.9816 - val_loss: 7.1618 - val_accuracy: 0.4855 - val_f1_m: 0.4663 - val_mcc_m: -0.0254\n",
      "Epoch 93/100\n",
      "476/476 [==============================] - 32s 67ms/step - loss: 0.0893 - accuracy: 0.9911 - f1_m: 0.9910 - mcc_m: 0.9821 - val_loss: 7.0993 - val_accuracy: 0.4903 - val_f1_m: 0.4875 - val_mcc_m: -0.0104\n",
      "Epoch 94/100\n",
      "476/476 [==============================] - 32s 68ms/step - loss: 0.0927 - accuracy: 0.9907 - f1_m: 0.9908 - mcc_m: 0.9814 - val_loss: 6.9839 - val_accuracy: 0.4946 - val_f1_m: 0.4863 - val_mcc_m: 7.2291e-04\n",
      "Epoch 95/100\n",
      "476/476 [==============================] - 32s 68ms/step - loss: 0.1030 - accuracy: 0.9896 - f1_m: 0.9895 - mcc_m: 0.9790 - val_loss: 6.7296 - val_accuracy: 0.4952 - val_f1_m: 0.4749 - val_mcc_m: -0.0099\n",
      "Epoch 96/100\n",
      "476/476 [==============================] - 32s 67ms/step - loss: 0.0869 - accuracy: 0.9901 - f1_m: 0.9901 - mcc_m: 0.9804 - val_loss: 6.8118 - val_accuracy: 0.5054 - val_f1_m: 0.4608 - val_mcc_m: 0.0071\n",
      "Epoch 97/100\n",
      "476/476 [==============================] - 33s 68ms/step - loss: 0.0778 - accuracy: 0.9900 - f1_m: 0.9901 - mcc_m: 0.9804 - val_loss: 7.2335 - val_accuracy: 0.4940 - val_f1_m: 0.4938 - val_mcc_m: 9.9298e-04\n",
      "Epoch 98/100\n",
      "476/476 [==============================] - 32s 68ms/step - loss: 0.1100 - accuracy: 0.9896 - f1_m: 0.9897 - mcc_m: 0.9791 - val_loss: 7.2698 - val_accuracy: 0.4855 - val_f1_m: 0.4622 - val_mcc_m: -0.0173\n",
      "Epoch 99/100\n",
      "476/476 [==============================] - 32s 68ms/step - loss: 0.1466 - accuracy: 0.9859 - f1_m: 0.9862 - mcc_m: 0.9721 - val_loss: 7.0486 - val_accuracy: 0.5024 - val_f1_m: 0.4009 - val_mcc_m: -0.0184\n",
      "Epoch 100/100\n",
      "476/476 [==============================] - 32s 68ms/step - loss: 0.1760 - accuracy: 0.9836 - f1_m: 0.9837 - mcc_m: 0.9677 - val_loss: 7.0156 - val_accuracy: 0.5018 - val_f1_m: 0.4967 - val_mcc_m: 0.0124\n"
     ]
    }
   ],
   "source": [
    "my_callbacks = [\n",
    "    # keras.callbacks.EarlyStopping(patience=2),\n",
    "    keras.callbacks.ModelCheckpoint(filepath='modellstm.{epoch:02d}.h5'),\n",
    "    keras.callbacks.TensorBoard(log_dir='./logs'),\n",
    "]\n",
    "\n",
    "history=model.fit(\n",
    "    [lstm_input,xtrain_inputt],\n",
    "    y,\n",
    "    batch_size=32,\n",
    "    epochs=100,\n",
    "    validation_data=([norm_X_val_input,xval_inputt], y_val),\n",
    "    verbose=1,\n",
    "    callbacks=my_callbacks)"
   ]
  },
  {
   "cell_type": "code",
   "execution_count": 858,
   "metadata": {
    "colab": {
     "base_uri": "https://localhost:8080/",
     "height": 265
    },
    "executionInfo": {
     "elapsed": 261909,
     "status": "ok",
     "timestamp": 1617821446816,
     "user": {
      "displayName": "Jiaying Gong",
      "photoUrl": "",
      "userId": "05239074792950850512"
     },
     "user_tz": 240
    },
    "id": "u26QTDqWT8EG",
    "outputId": "311b7704-4bc9-4d11-896d-fd9709689ec3"
   },
   "outputs": [
    {
     "data": {
      "image/png": "[encoded data removed]",
      "text/plain": [
       "<Figure size 432x288 with 1 Axes>"
      ]
     },
     "metadata": {
      "needs_background": "light"
     },
     "output_type": "display_data"
    }
   ],
   "source": [
    "import matplotlib.pyplot as plt\n",
    "plt.plot(history.history['loss'], label='train')\n",
    "plt.plot(history.history['val_loss'], label='validation')\n",
    "plt.legend()\n",
    "plt.show()"
   ]
  },
  {
   "cell_type": "code",
   "execution_count": 859,
   "metadata": {
    "colab": {
     "base_uri": "https://localhost:8080/",
     "height": 265
    },
    "executionInfo": {
     "elapsed": 259510,
     "status": "ok",
     "timestamp": 1617821446817,
     "user": {
      "displayName": "Jiaying Gong",
      "photoUrl": "",
      "userId": "05239074792950850512"
     },
     "user_tz": 240
    },
    "id": "PduN-XEdT8HQ",
    "outputId": "8d65306a-75f3-4516-e3c0-83eb48f1265a"
   },
   "outputs": [
    {
     "data": {
      "image/png": "[encoded data removed]",
      "text/plain": [
       "<Figure size 432x288 with 1 Axes>"
      ]
     },
     "metadata": {
      "needs_background": "light"
     },
     "output_type": "display_data"
    }
   ],
   "source": [
    "plt.plot(history.history['accuracy'], label='train')\n",
    "plt.plot(history.history['val_accuracy'], label='validation')\n",
    "plt.legend()\n",
    "plt.show()"
   ]
  },
  {
   "cell_type": "code",
   "execution_count": 860,
   "metadata": {
    "colab": {
     "base_uri": "https://localhost:8080/"
    },
    "executionInfo": {
     "elapsed": 258177,
     "status": "ok",
     "timestamp": 1617821447482,
     "user": {
      "displayName": "Jiaying Gong",
      "photoUrl": "",
      "userId": "05239074792950850512"
     },
     "user_tz": 240
    },
    "id": "tL6Pm9sAT8KK",
    "outputId": "62676cc9-8b9e-48ec-f49b-bdd0b37dc7c3"
   },
   "outputs": [
    {
     "name": "stdout",
     "output_type": "stream",
     "text": [
      "79/79 [==============================] - 1s 15ms/step - loss: 6.8890 - accuracy: 0.4974 - f1_m: 0.5055 - mcc_m: -0.0087\n"
     ]
    }
   ],
   "source": [
    "test_acc = model.evaluate([norm_X_test_input,xtest_inputt], y_test, batch_size = 32)\n",
    "#y_pred = model.predict_classes(norm_X_test_input,batch_size = 32)"
   ]
  },
  {
   "cell_type": "code",
   "execution_count": 861,
   "metadata": {
    "colab": {
     "base_uri": "https://localhost:8080/",
     "height": 863
    },
    "executionInfo": {
     "elapsed": 49263,
     "status": "error",
     "timestamp": 1617813925488,
     "user": {
      "displayName": "Jiaying Gong",
      "photoUrl": "",
      "userId": "05239074792950850512"
     },
     "user_tz": 240
    },
    "id": "9UXhOlkNdKdq",
    "outputId": "6a4f57da-7c5d-4ec2-8fe2-31fcffe075c6"
   },
   "outputs": [
    {
     "name": "stdout",
     "output_type": "stream",
     "text": [
      "79/79 [==============================] - 16s 15ms/step - loss: 0.6925 - accuracy: 0.5201 - f1_m: 0.2995 - mcc_m: 0.0540\n",
      "0.49860724806785583\n",
      "79/79 [==============================] - 22s 16ms/step - loss: 0.6930 - accuracy: 0.5240 - f1_m: 0.3179 - mcc_m: 0.0512\n",
      "0.5029844641685486\n",
      "79/79 [==============================] - 14s 15ms/step - loss: 0.6924 - accuracy: 0.5233 - f1_m: 0.3569 - mcc_m: 0.0412\n",
      "0.5057699680328369\n",
      "79/79 [==============================] - 15s 15ms/step - loss: 0.7034 - accuracy: 0.4949 - f1_m: 0.6081 - mcc_m: -0.0134\n",
      "0.5045762062072754\n",
      "79/79 [==============================] - 25s 16ms/step - loss: 0.7101 - accuracy: 0.4877 - f1_m: 0.5231 - mcc_m: -0.0210\n",
      "0.4938320815563202\n",
      "79/79 [==============================] - 14s 16ms/step - loss: 0.7537 - accuracy: 0.5022 - f1_m: 0.5719 - mcc_m: 0.0039\n",
      "0.5021886229515076\n",
      "79/79 [==============================] - 14s 16ms/step - loss: 0.7796 - accuracy: 0.5026 - f1_m: 0.6169 - mcc_m: 0.0010\n",
      "0.509351372718811\n",
      "79/79 [==============================] - 23s 15ms/step - loss: 1.0050 - accuracy: 0.4931 - f1_m: 0.6274 - mcc_m: -0.0371\n",
      "0.5017907023429871\n",
      "79/79 [==============================] - 14s 15ms/step - loss: 1.9568 - accuracy: 0.4964 - f1_m: 0.3467 - mcc_m: 0.0039\n",
      "0.4926382899284363\n",
      "79/79 [==============================] - 15s 16ms/step - loss: 1.5639 - accuracy: 0.5020 - f1_m: 0.4378 - mcc_m: -0.0022\n",
      "0.4974134564399719\n",
      "79/79 [==============================] - 24s 16ms/step - loss: 2.0433 - accuracy: 0.5013 - f1_m: 0.6049 - mcc_m: -0.0168\n",
      "0.5049741268157959\n",
      "79/79 [==============================] - 14s 16ms/step - loss: 3.0365 - accuracy: 0.4863 - f1_m: 0.2153 - mcc_m: -0.0242\n",
      "0.4818941652774811\n",
      "79/79 [==============================] - 17s 16ms/step - loss: 2.7572 - accuracy: 0.5094 - f1_m: 0.5469 - mcc_m: 0.0012\n",
      "0.5013927817344666\n",
      "79/79 [==============================] - 23s 16ms/step - loss: 3.0700 - accuracy: 0.4967 - f1_m: 0.4466 - mcc_m: -0.0183\n",
      "0.5013927817344666\n",
      "79/79 [==============================] - 14s 15ms/step - loss: 3.1201 - accuracy: 0.4900 - f1_m: 0.3243 - mcc_m: -0.0149\n",
      "0.4918424189090729\n",
      "79/79 [==============================] - 14s 15ms/step - loss: 4.2928 - accuracy: 0.4911 - f1_m: 0.2831 - mcc_m: -0.0247\n",
      "0.48746517300605774\n",
      "79/79 [==============================] - 21s 16ms/step - loss: 3.4667 - accuracy: 0.4808 - f1_m: 0.4157 - mcc_m: -0.0294\n",
      "0.49144449830055237\n",
      "79/79 [==============================] - 13s 15ms/step - loss: 3.6849 - accuracy: 0.4920 - f1_m: 0.3342 - mcc_m: -0.0277\n",
      "0.48985275626182556\n",
      "79/79 [==============================] - 13s 16ms/step - loss: 3.3278 - accuracy: 0.4868 - f1_m: 0.4737 - mcc_m: -0.0326\n",
      "0.4974134564399719\n",
      "79/79 [==============================] - 22s 15ms/step - loss: 4.2857 - accuracy: 0.4969 - f1_m: 0.5019 - mcc_m: -0.0173\n",
      "0.49701550602912903\n",
      "79/79 [==============================] - 14s 15ms/step - loss: 3.9060 - accuracy: 0.4976 - f1_m: 0.4814 - mcc_m: -0.0213\n",
      "0.5021886229515076\n",
      "79/79 [==============================] - 15s 16ms/step - loss: 5.5945 - accuracy: 0.4879 - f1_m: 0.1797 - mcc_m: -0.0198\n",
      "0.4846796691417694\n",
      "79/79 [==============================] - 24s 17ms/step - loss: 5.0097 - accuracy: 0.4966 - f1_m: 0.4774 - mcc_m: -0.0149\n",
      "0.49860724806785583\n",
      "79/79 [==============================] - 14s 16ms/step - loss: 4.8525 - accuracy: 0.4950 - f1_m: 0.4909 - mcc_m: -0.0298\n",
      "0.4954237937927246\n",
      "79/79 [==============================] - 14s 15ms/step - loss: 4.4989 - accuracy: 0.5003 - f1_m: 0.3653 - mcc_m: -0.0116\n",
      "0.496219664812088\n",
      "79/79 [==============================] - 24s 16ms/step - loss: 4.5557 - accuracy: 0.4956 - f1_m: 0.5139 - mcc_m: -0.0282\n",
      "0.49781137704849243\n",
      "79/79 [==============================] - 14s 16ms/step - loss: 5.1912 - accuracy: 0.4988 - f1_m: 0.4770 - mcc_m: -0.0062\n",
      "0.496219664812088\n",
      "79/79 [==============================] - 15s 15ms/step - loss: 6.2562 - accuracy: 0.5008 - f1_m: 0.5996 - mcc_m: -0.0056\n",
      "0.5029844641685486\n",
      "79/79 [==============================] - 22s 17ms/step - loss: 5.2676 - accuracy: 0.5065 - f1_m: 0.5340 - mcc_m: 0.0114\n",
      "0.5053720474243164\n",
      "79/79 [==============================] - 13s 15ms/step - loss: 5.4206 - accuracy: 0.5017 - f1_m: 0.4564 - mcc_m: 0.0078\n",
      "0.4974134564399719\n",
      "79/79 [==============================] - 21s 15ms/step - loss: 5.1116 - accuracy: 0.5086 - f1_m: 0.5158 - mcc_m: 0.0052\n",
      "0.49860724806785583\n",
      "79/79 [==============================] - 24s 16ms/step - loss: 5.3345 - accuracy: 0.5018 - f1_m: 0.5354 - mcc_m: -0.0054\n",
      "0.5021886229515076\n",
      "79/79 [==============================] - 14s 16ms/step - loss: 5.1565 - accuracy: 0.5112 - f1_m: 0.5359 - mcc_m: 0.0175\n",
      "0.5005968809127808\n",
      "79/79 [==============================] - 20s 15ms/step - loss: 5.1680 - accuracy: 0.5065 - f1_m: 0.5757 - mcc_m: -0.0077\n",
      "0.49860724806785583\n",
      "79/79 [==============================] - 21s 15ms/step - loss: 5.5595 - accuracy: 0.5149 - f1_m: 0.5257 - mcc_m: 0.0316\n",
      "0.5013927817344666\n",
      "79/79 [==============================] - 13s 15ms/step - loss: 5.3400 - accuracy: 0.5031 - f1_m: 0.5104 - mcc_m: -0.0059\n",
      "0.4958217144012451\n",
      "79/79 [==============================] - 13s 15ms/step - loss: 5.8931 - accuracy: 0.5114 - f1_m: 0.4087 - mcc_m: 0.0159\n",
      "0.5029844641685486\n",
      "79/79 [==============================] - 25s 16ms/step - loss: 5.9220 - accuracy: 0.4941 - f1_m: 0.4923 - mcc_m: -0.0279\n",
      "0.4930362105369568\n",
      "79/79 [==============================] - 13s 16ms/step - loss: 5.4492 - accuracy: 0.4964 - f1_m: 0.4516 - mcc_m: -0.0118\n",
      "0.49144449830055237\n",
      "79/79 [==============================] - 14s 16ms/step - loss: 5.7749 - accuracy: 0.5053 - f1_m: 0.4975 - mcc_m: -0.0011\n",
      "0.5013927817344666\n",
      "79/79 [==============================] - 22s 16ms/step - loss: 5.3308 - accuracy: 0.5042 - f1_m: 0.5182 - mcc_m: -0.0020\n",
      "0.5017907023429871\n",
      "79/79 [==============================] - 13s 15ms/step - loss: 5.6588 - accuracy: 0.4981 - f1_m: 0.5302 - mcc_m: -0.0140\n",
      "0.4922403395175934\n",
      "79/79 [==============================] - 21s 16ms/step - loss: 6.3394 - accuracy: 0.4738 - f1_m: 0.5109 - mcc_m: -0.0733\n",
      "0.4818941652774811\n",
      "79/79 [==============================] - 20s 15ms/step - loss: 6.0039 - accuracy: 0.5109 - f1_m: 0.4737 - mcc_m: 0.0138\n",
      "0.5061679482460022\n",
      "79/79 [==============================] - 12s 15ms/step - loss: 5.5668 - accuracy: 0.5023 - f1_m: 0.5072 - mcc_m: -0.0042\n",
      "0.5001989603042603\n",
      "79/79 [==============================] - 19s 15ms/step - loss: 5.5807 - accuracy: 0.4948 - f1_m: 0.4645 - mcc_m: -0.0215\n",
      "0.4974134564399719\n",
      "79/79 [==============================] - 19s 16ms/step - loss: 5.9142 - accuracy: 0.4906 - f1_m: 0.4903 - mcc_m: -0.0289\n",
      "0.4934341311454773\n",
      "79/79 [==============================] - 13s 15ms/step - loss: 5.8551 - accuracy: 0.4984 - f1_m: 0.5205 - mcc_m: -0.0149\n",
      "0.4934341311454773\n",
      "79/79 [==============================] - 14s 15ms/step - loss: 6.1353 - accuracy: 0.4848 - f1_m: 0.5209 - mcc_m: -0.0459\n",
      "0.4866693317890167\n",
      "79/79 [==============================] - 24s 16ms/step - loss: 5.5594 - accuracy: 0.5038 - f1_m: 0.5207 - mcc_m: -0.0063\n",
      "0.5069637894630432\n",
      "79/79 [==============================] - 13s 15ms/step - loss: 5.8375 - accuracy: 0.4889 - f1_m: 0.5328 - mcc_m: -0.0341\n",
      "0.49781137704849243\n",
      "79/79 [==============================] - 13s 15ms/step - loss: 6.7470 - accuracy: 0.4924 - f1_m: 0.4210 - mcc_m: -0.0176\n",
      "0.49025070667266846\n",
      "79/79 [==============================] - 21s 15ms/step - loss: 6.7137 - accuracy: 0.4949 - f1_m: 0.4249 - mcc_m: -0.0153\n",
      "0.49781137704849243\n",
      "79/79 [==============================] - 13s 15ms/step - loss: 6.5017 - accuracy: 0.4845 - f1_m: 0.4738 - mcc_m: -0.0332\n",
      "0.4958217144012451\n",
      "79/79 [==============================] - 20s 16ms/step - loss: 6.4294 - accuracy: 0.4823 - f1_m: 0.4489 - mcc_m: -0.0381\n",
      "0.4854755401611328\n",
      "79/79 [==============================] - 21s 16ms/step - loss: 6.5234 - accuracy: 0.4891 - f1_m: 0.4687 - mcc_m: -0.0241\n",
      "0.4930362105369568\n",
      "79/79 [==============================] - 13s 16ms/step - loss: 6.6532 - accuracy: 0.4793 - f1_m: 0.4369 - mcc_m: -0.0418\n",
      "0.48706725239753723\n",
      "79/79 [==============================] - 18s 15ms/step - loss: 6.7070 - accuracy: 0.4988 - f1_m: 0.5372 - mcc_m: -0.0138\n",
      "0.49144449830055237\n",
      "79/79 [==============================] - 20s 16ms/step - loss: 6.6667 - accuracy: 0.4875 - f1_m: 0.5291 - mcc_m: -0.0352\n",
      "0.4942300021648407\n",
      "79/79 [==============================] - 12s 16ms/step - loss: 6.7305 - accuracy: 0.4932 - f1_m: 0.5174 - mcc_m: -0.0165\n",
      "0.4934341311454773\n",
      "79/79 [==============================] - 14s 15ms/step - loss: 6.5017 - accuracy: 0.4885 - f1_m: 0.5234 - mcc_m: -0.0437\n",
      "0.49701550602912903\n",
      "79/79 [==============================] - 24s 16ms/step - loss: 6.6040 - accuracy: 0.4963 - f1_m: 0.5555 - mcc_m: -0.0267\n",
      "0.49701550602912903\n",
      "79/79 [==============================] - 13s 15ms/step - loss: 6.2191 - accuracy: 0.4769 - f1_m: 0.4308 - mcc_m: -0.0528\n",
      "0.483087956905365\n",
      "79/79 [==============================] - 16s 15ms/step - loss: 6.5514 - accuracy: 0.4774 - f1_m: 0.5075 - mcc_m: -0.0567\n",
      "0.4938320815563202\n",
      "79/79 [==============================] - 20s 15ms/step - loss: 6.6216 - accuracy: 0.4769 - f1_m: 0.4956 - mcc_m: -0.0515\n",
      "0.4918424189090729\n",
      "79/79 [==============================] - 12s 16ms/step - loss: 6.3348 - accuracy: 0.4886 - f1_m: 0.4752 - mcc_m: -0.0380\n",
      "0.5001989603042603\n",
      "79/79 [==============================] - 12s 15ms/step - loss: 6.6956 - accuracy: 0.4772 - f1_m: 0.3716 - mcc_m: -0.0385\n",
      "0.483087956905365\n",
      "79/79 [==============================] - 19s 15ms/step - loss: 6.8562 - accuracy: 0.4681 - f1_m: 0.4626 - mcc_m: -0.0726\n",
      "0.4803024232387543\n",
      "79/79 [==============================] - 12s 16ms/step - loss: 6.6740 - accuracy: 0.4907 - f1_m: 0.3454 - mcc_m: -0.0183\n",
      "0.48706725239753723\n",
      "79/79 [==============================] - 13s 15ms/step - loss: 6.5219 - accuracy: 0.4880 - f1_m: 0.5193 - mcc_m: -0.0374\n",
      "0.49860724806785583\n",
      "79/79 [==============================] - 21s 15ms/step - loss: 6.8854 - accuracy: 0.5043 - f1_m: 0.5690 - mcc_m: 0.0079\n",
      "0.5001989603042603\n",
      "79/79 [==============================] - 12s 15ms/step - loss: 6.6418 - accuracy: 0.4947 - f1_m: 0.4629 - mcc_m: -0.0148\n",
      "0.49980103969573975\n",
      "79/79 [==============================] - 12s 15ms/step - loss: 6.9251 - accuracy: 0.4931 - f1_m: 0.4243 - mcc_m: -0.0135\n",
      "0.4918424189090729\n",
      "79/79 [==============================] - 20s 16ms/step - loss: 6.8518 - accuracy: 0.4931 - f1_m: 0.4744 - mcc_m: -0.0123\n",
      "0.4974134564399719\n",
      "79/79 [==============================] - 13s 16ms/step - loss: 6.9722 - accuracy: 0.4929 - f1_m: 0.5194 - mcc_m: -0.0303\n",
      "0.49940308928489685\n",
      "79/79 [==============================] - 13s 15ms/step - loss: 6.8553 - accuracy: 0.4877 - f1_m: 0.4570 - mcc_m: -0.0295\n",
      "0.4974134564399719\n",
      "79/79 [==============================] - 23s 16ms/step - loss: 6.5869 - accuracy: 0.4831 - f1_m: 0.4571 - mcc_m: -0.0382\n",
      "0.48826104402542114\n",
      "79/79 [==============================] - 12s 15ms/step - loss: 6.9199 - accuracy: 0.4655 - f1_m: 0.4624 - mcc_m: -0.0772\n",
      "0.47871071100234985\n",
      "79/79 [==============================] - 18s 16ms/step - loss: 7.1207 - accuracy: 0.4798 - f1_m: 0.4291 - mcc_m: -0.0437\n",
      "0.48746517300605774\n",
      "79/79 [==============================] - 20s 16ms/step - loss: 6.7367 - accuracy: 0.4933 - f1_m: 0.5265 - mcc_m: -0.0288\n",
      "0.5009948015213013\n",
      "79/79 [==============================] - 12s 15ms/step - loss: 7.0008 - accuracy: 0.4819 - f1_m: 0.4985 - mcc_m: -0.0449\n",
      "0.4918424189090729\n",
      "79/79 [==============================] - 13s 15ms/step - loss: 6.8723 - accuracy: 0.4913 - f1_m: 0.4963 - mcc_m: -0.0269\n",
      "0.4930362105369568\n",
      "79/79 [==============================] - 24s 17ms/step - loss: 6.7750 - accuracy: 0.5001 - f1_m: 0.5273 - mcc_m: 3.5072e-04\n",
      "0.5029844641685486\n",
      "79/79 [==============================] - 13s 15ms/step - loss: 6.8260 - accuracy: 0.5002 - f1_m: 0.5353 - mcc_m: -0.0066\n",
      "0.5065658688545227\n",
      "79/79 [==============================] - 18s 15ms/step - loss: 6.8640 - accuracy: 0.4862 - f1_m: 0.4476 - mcc_m: -0.0293\n",
      "0.4826900064945221\n",
      "79/79 [==============================] - 20s 16ms/step - loss: 7.1017 - accuracy: 0.4921 - f1_m: 0.4398 - mcc_m: -0.0196\n",
      "0.4926382899284363\n",
      "79/79 [==============================] - 12s 15ms/step - loss: 6.7169 - accuracy: 0.4997 - f1_m: 0.4890 - mcc_m: -0.0044\n",
      "0.4934341311454773\n",
      "79/79 [==============================] - 13s 15ms/step - loss: 6.8210 - accuracy: 0.4984 - f1_m: 0.5232 - mcc_m: -0.0144\n",
      "0.4926382899284363\n",
      "79/79 [==============================] - 22s 16ms/step - loss: 7.0738 - accuracy: 0.5011 - f1_m: 0.5644 - mcc_m: -0.0102\n",
      "0.49781137704849243\n",
      "79/79 [==============================] - 12s 15ms/step - loss: 7.1398 - accuracy: 0.4905 - f1_m: 0.5001 - mcc_m: -0.0256\n",
      "0.4910465478897095\n",
      "79/79 [==============================] - 13s 15ms/step - loss: 6.9934 - accuracy: 0.4963 - f1_m: 0.5103 - mcc_m: -0.0170\n",
      "0.4930362105369568\n",
      "79/79 [==============================] - 21s 17ms/step - loss: 6.8514 - accuracy: 0.5098 - f1_m: 0.4871 - mcc_m: 0.0134\n",
      "0.5025865435600281\n",
      "79/79 [==============================] - 13s 15ms/step - loss: 6.9674 - accuracy: 0.5069 - f1_m: 0.5365 - mcc_m: 0.0093\n",
      "0.49900516867637634\n",
      "79/79 [==============================] - 19s 15ms/step - loss: 7.1188 - accuracy: 0.4842 - f1_m: 0.4761 - mcc_m: -0.0374\n",
      "0.48826104402542114\n",
      "79/79 [==============================] - 19s 17ms/step - loss: 6.8074 - accuracy: 0.4974 - f1_m: 0.5132 - mcc_m: -0.0105\n",
      "0.49064862728118896\n",
      "79/79 [==============================] - 12s 15ms/step - loss: 7.0017 - accuracy: 0.4916 - f1_m: 0.4540 - mcc_m: -0.0262\n",
      "0.49940308928489685\n",
      "79/79 [==============================] - 18s 15ms/step - loss: 6.8027 - accuracy: 0.5144 - f1_m: 0.5332 - mcc_m: 0.0159\n",
      "0.5089534521102905\n",
      "79/79 [==============================] - 19s 16ms/step - loss: 7.0769 - accuracy: 0.5055 - f1_m: 0.4642 - mcc_m: 0.0019\n",
      "0.5073617100715637\n",
      "79/79 [==============================] - 12s 15ms/step - loss: 7.4267 - accuracy: 0.4832 - f1_m: 0.3934 - mcc_m: -0.0275\n",
      "0.4818941652774811\n",
      "79/79 [==============================] - 13s 15ms/step - loss: 6.8249 - accuracy: 0.4989 - f1_m: 0.5091 - mcc_m: -0.0029\n",
      "0.4974134564399719\n",
      "0.509351372718811\n",
      "7\n"
     ]
    }
   ],
   "source": [
    "#@tf.autograph.experimental.do_not_convert\n",
    "acc_hist = []\n",
    "n = 1\n",
    "for i in range(100):\n",
    "  k = str(n).zfill(2)\n",
    "  n += 1\n",
    "  name = 'modellstm.' + k +'.h5'\n",
    "  model11 = load_model(name, custom_objects={'SeqSelfAttention':SeqSelfAttention.get_custom_objects()['SeqSelfAttention'],'TCN':TCN,'f1_m':f1_m,'mcc_m':mcc_m,'custom_loss':custom_loss,'optim':optim})\n",
    "  model11.compile(loss='binary_crossentropy',optimizer='rmsprop', metrics=['accuracy', f1_m, mcc_m])\n",
    "  loss,acc,f1,mcc = model11.evaluate([norm_X_test_input,xtest_inputt],y_test,batch_size=32)\n",
    "  acc_hist.append(acc)\n",
    "  print(acc)\n",
    " \n",
    "    \n",
    "print(max(acc_hist))\n",
    "print(acc_hist.index(max(acc_hist))+1)"
   ]
  },
  {
   "cell_type": "code",
   "execution_count": 855,
   "metadata": {
    "colab": {
     "base_uri": "https://localhost:8080/"
    },
    "executionInfo": {
     "elapsed": 4373,
     "status": "ok",
     "timestamp": 1617813031897,
     "user": {
      "displayName": "Jiaying Gong",
      "photoUrl": "",
      "userId": "05239074792950850512"
     },
     "user_tz": 240
    },
    "id": "zacrNeQWMgCv",
    "outputId": "8af42c50-adda-40cd-af15-bcac41357752"
   },
   "outputs": [
    {
     "name": "stdout",
     "output_type": "stream",
     "text": [
      "79/79 [==============================] - 19s 15ms/step - loss: 0.9557 - accuracy: 0.5240 - f1_m: 0.5341 - mcc_m: 0.0420\n",
      "0.5212892889976501\n",
      "0.5351505875587463\n",
      "0.039001401513814926\n"
     ]
    }
   ],
   "source": [
    "name = 'modellstm.58.h5'\n",
    "model11 = load_model(name, custom_objects={'SeqSelfAttention':SeqSelfAttention.get_custom_objects()['SeqSelfAttention'],'TCN':TCN,'f1_m':f1_m,'mcc_m':mcc_m,'custom_loss':custom_loss,'optim':optim})\n",
    "model11.compile(loss='binary_crossentropy',optimizer='rmsprop', metrics=['accuracy', f1_m, mcc_m])\n",
    "loss,acc,f1,mcc = model11.evaluate([norm_X_test_input,xtest_inputt],y_test,batch_size=32)\n",
    "print(acc)\n",
    "print(f1)\n",
    "print(mcc)"
   ]
  },
  {
   "cell_type": "code",
   "execution_count": null,
   "metadata": {},
   "outputs": [],
   "source": []
  },
  {
   "cell_type": "code",
   "execution_count": null,
   "metadata": {},
   "outputs": [],
   "source": []
  }
 ],
 "metadata": {
  "colab": {
   "collapsed_sections": [],
   "name": "stock prediction.ipynb",
   "provenance": []
  },
  "kernelspec": {
   "display_name": "Python [conda env:cs6604]",
   "language": "python",
   "name": "conda-env-cs6604-py"
  },
  "language_info": {
   "codemirror_mode": {
    "name": "ipython",
    "version": 3
   },
   "file_extension": ".py",
   "mimetype": "text/x-python",
   "name": "python",
   "nbconvert_exporter": "python",
   "pygments_lexer": "ipython3",
   "version": "3.7.9"
  }
 },
 "nbformat": 4,
 "nbformat_minor": 4
}
